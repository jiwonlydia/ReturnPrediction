{
 "cells": [
  {
   "cell_type": "markdown",
   "metadata": {
    "id": "cPjMM4PE7kaN"
   },
   "source": [
    "공식 깃허브: https://github.com/LouisChen1992/Deep_Learning_Asset_Pricing"
   ]
  },
  {
   "cell_type": "markdown",
   "metadata": {
    "id": "fQGC2EBjOcpZ"
   },
   "source": [
    "# Colab Setup"
   ]
  },
  {
   "cell_type": "code",
   "execution_count": null,
   "metadata": {
    "colab": {
     "base_uri": "https://localhost:8080/"
    },
    "id": "-MFAaRefOhe2",
    "outputId": "3768fec3-6992-45ee-ef19-528f538241e6"
   },
   "outputs": [
    {
     "name": "stdout",
     "output_type": "stream",
     "text": [
      "Mounted at /content/drive\n"
     ]
    }
   ],
   "source": [
    "from google.colab import drive\n",
    "drive.mount('/content/drive')"
   ]
  },
  {
   "cell_type": "code",
   "execution_count": null,
   "metadata": {
    "id": "e4EAqmKPOkww"
   },
   "outputs": [],
   "source": [
    "import os\n",
    "path = '/content/drive/MyDrive/000research/return_prediction/최종/01_전처리'\n",
    "os.chdir(path)"
   ]
  },
  {
   "cell_type": "code",
   "execution_count": null,
   "metadata": {
    "colab": {
     "base_uri": "https://localhost:8080/"
    },
    "id": "_B3wNT--ypLg",
    "outputId": "0138a8fa-b0ef-4efc-851c-dbf84178e3da",
    "scrolled": true
   },
   "outputs": [
    {
     "name": "stdout",
     "output_type": "stream",
     "text": [
      "Looking in indexes: https://pypi.org/simple, https://us-python.pkg.dev/colab-wheels/public/simple/\n",
      "Collecting tensorflow==1.14.0\n",
      "  Downloading tensorflow-1.14.0-cp37-cp37m-manylinux1_x86_64.whl (109.3 MB)\n",
      "\u001b[K     |████████████████████████████████| 109.3 MB 49 kB/s \n",
      "\u001b[?25hRequirement already satisfied: google-pasta>=0.1.6 in /usr/local/lib/python3.7/dist-packages (from tensorflow==1.14.0) (0.2.0)\n",
      "Requirement already satisfied: gast>=0.2.0 in /usr/local/lib/python3.7/dist-packages (from tensorflow==1.14.0) (0.5.3)\n",
      "Requirement already satisfied: wrapt>=1.11.1 in /usr/local/lib/python3.7/dist-packages (from tensorflow==1.14.0) (1.14.1)\n",
      "Requirement already satisfied: grpcio>=1.8.6 in /usr/local/lib/python3.7/dist-packages (from tensorflow==1.14.0) (1.47.0)\n",
      "Requirement already satisfied: astor>=0.6.0 in /usr/local/lib/python3.7/dist-packages (from tensorflow==1.14.0) (0.8.1)\n",
      "Requirement already satisfied: keras-preprocessing>=1.0.5 in /usr/local/lib/python3.7/dist-packages (from tensorflow==1.14.0) (1.1.2)\n",
      "Collecting keras-applications>=1.0.6\n",
      "  Downloading Keras_Applications-1.0.8-py3-none-any.whl (50 kB)\n",
      "\u001b[K     |████████████████████████████████| 50 kB 5.8 MB/s \n",
      "\u001b[?25hRequirement already satisfied: absl-py>=0.7.0 in /usr/local/lib/python3.7/dist-packages (from tensorflow==1.14.0) (1.2.0)\n",
      "Requirement already satisfied: numpy<2.0,>=1.14.5 in /usr/local/lib/python3.7/dist-packages (from tensorflow==1.14.0) (1.21.6)\n",
      "Requirement already satisfied: termcolor>=1.1.0 in /usr/local/lib/python3.7/dist-packages (from tensorflow==1.14.0) (1.1.0)\n",
      "Requirement already satisfied: protobuf>=3.6.1 in /usr/local/lib/python3.7/dist-packages (from tensorflow==1.14.0) (3.17.3)\n",
      "Collecting tensorflow-estimator<1.15.0rc0,>=1.14.0rc0\n",
      "  Downloading tensorflow_estimator-1.14.0-py2.py3-none-any.whl (488 kB)\n",
      "\u001b[K     |████████████████████████████████| 488 kB 43.7 MB/s \n",
      "\u001b[?25hRequirement already satisfied: six>=1.10.0 in /usr/local/lib/python3.7/dist-packages (from tensorflow==1.14.0) (1.15.0)\n",
      "Collecting tensorboard<1.15.0,>=1.14.0\n",
      "  Downloading tensorboard-1.14.0-py3-none-any.whl (3.1 MB)\n",
      "\u001b[K     |████████████████████████████████| 3.1 MB 37.4 MB/s \n",
      "\u001b[?25hRequirement already satisfied: wheel>=0.26 in /usr/local/lib/python3.7/dist-packages (from tensorflow==1.14.0) (0.37.1)\n",
      "Requirement already satisfied: h5py in /usr/local/lib/python3.7/dist-packages (from keras-applications>=1.0.6->tensorflow==1.14.0) (3.1.0)\n",
      "Requirement already satisfied: markdown>=2.6.8 in /usr/local/lib/python3.7/dist-packages (from tensorboard<1.15.0,>=1.14.0->tensorflow==1.14.0) (3.4.1)\n",
      "Requirement already satisfied: setuptools>=41.0.0 in /usr/local/lib/python3.7/dist-packages (from tensorboard<1.15.0,>=1.14.0->tensorflow==1.14.0) (57.4.0)\n",
      "Requirement already satisfied: werkzeug>=0.11.15 in /usr/local/lib/python3.7/dist-packages (from tensorboard<1.15.0,>=1.14.0->tensorflow==1.14.0) (1.0.1)\n",
      "Requirement already satisfied: importlib-metadata>=4.4 in /usr/local/lib/python3.7/dist-packages (from markdown>=2.6.8->tensorboard<1.15.0,>=1.14.0->tensorflow==1.14.0) (4.12.0)\n",
      "Requirement already satisfied: typing-extensions>=3.6.4 in /usr/local/lib/python3.7/dist-packages (from importlib-metadata>=4.4->markdown>=2.6.8->tensorboard<1.15.0,>=1.14.0->tensorflow==1.14.0) (4.1.1)\n",
      "Requirement already satisfied: zipp>=0.5 in /usr/local/lib/python3.7/dist-packages (from importlib-metadata>=4.4->markdown>=2.6.8->tensorboard<1.15.0,>=1.14.0->tensorflow==1.14.0) (3.8.1)\n",
      "Requirement already satisfied: cached-property in /usr/local/lib/python3.7/dist-packages (from h5py->keras-applications>=1.0.6->tensorflow==1.14.0) (1.5.2)\n",
      "Installing collected packages: tensorflow-estimator, tensorboard, keras-applications, tensorflow\n",
      "  Attempting uninstall: tensorflow-estimator\n",
      "    Found existing installation: tensorflow-estimator 2.8.0\n",
      "    Uninstalling tensorflow-estimator-2.8.0:\n",
      "      Successfully uninstalled tensorflow-estimator-2.8.0\n",
      "  Attempting uninstall: tensorboard\n",
      "    Found existing installation: tensorboard 2.8.0\n",
      "    Uninstalling tensorboard-2.8.0:\n",
      "      Successfully uninstalled tensorboard-2.8.0\n",
      "  Attempting uninstall: tensorflow\n",
      "    Found existing installation: tensorflow 2.8.2+zzzcolab20220719082949\n",
      "    Uninstalling tensorflow-2.8.2+zzzcolab20220719082949:\n",
      "      Successfully uninstalled tensorflow-2.8.2+zzzcolab20220719082949\n",
      "\u001b[31mERROR: pip's dependency resolver does not currently take into account all the packages that are installed. This behaviour is the source of the following dependency conflicts.\n",
      "kapre 0.3.7 requires tensorflow>=2.0.0, but you have tensorflow 1.14.0 which is incompatible.\u001b[0m\n",
      "Successfully installed keras-applications-1.0.8 tensorboard-1.14.0 tensorflow-1.14.0 tensorflow-estimator-1.14.0\n"
     ]
    }
   ],
   "source": [
    "pip install tensorflow==1.14.0"
   ]
  },
  {
   "cell_type": "code",
   "execution_count": null,
   "metadata": {
    "colab": {
     "base_uri": "https://localhost:8080/"
    },
    "id": "Ntz_DrmDPQB1",
    "outputId": "a0327537-7c55-4459-d1dc-051474b9b3ca"
   },
   "outputs": [
    {
     "name": "stderr",
     "output_type": "stream",
     "text": [
      "/usr/local/lib/python3.7/dist-packages/tensorflow/python/framework/dtypes.py:516: FutureWarning: Passing (type, 1) or '1type' as a synonym of type is deprecated; in a future version of numpy, it will be understood as (type, (1,)) / '(1,)type'.\n",
      "  _np_qint8 = np.dtype([(\"qint8\", np.int8, 1)])\n",
      "/usr/local/lib/python3.7/dist-packages/tensorflow/python/framework/dtypes.py:517: FutureWarning: Passing (type, 1) or '1type' as a synonym of type is deprecated; in a future version of numpy, it will be understood as (type, (1,)) / '(1,)type'.\n",
      "  _np_quint8 = np.dtype([(\"quint8\", np.uint8, 1)])\n",
      "/usr/local/lib/python3.7/dist-packages/tensorflow/python/framework/dtypes.py:518: FutureWarning: Passing (type, 1) or '1type' as a synonym of type is deprecated; in a future version of numpy, it will be understood as (type, (1,)) / '(1,)type'.\n",
      "  _np_qint16 = np.dtype([(\"qint16\", np.int16, 1)])\n",
      "/usr/local/lib/python3.7/dist-packages/tensorflow/python/framework/dtypes.py:519: FutureWarning: Passing (type, 1) or '1type' as a synonym of type is deprecated; in a future version of numpy, it will be understood as (type, (1,)) / '(1,)type'.\n",
      "  _np_quint16 = np.dtype([(\"quint16\", np.uint16, 1)])\n",
      "/usr/local/lib/python3.7/dist-packages/tensorflow/python/framework/dtypes.py:520: FutureWarning: Passing (type, 1) or '1type' as a synonym of type is deprecated; in a future version of numpy, it will be understood as (type, (1,)) / '(1,)type'.\n",
      "  _np_qint32 = np.dtype([(\"qint32\", np.int32, 1)])\n",
      "/usr/local/lib/python3.7/dist-packages/tensorflow/python/framework/dtypes.py:525: FutureWarning: Passing (type, 1) or '1type' as a synonym of type is deprecated; in a future version of numpy, it will be understood as (type, (1,)) / '(1,)type'.\n",
      "  np_resource = np.dtype([(\"resource\", np.ubyte, 1)])\n",
      "/usr/local/lib/python3.7/dist-packages/tensorboard/compat/tensorflow_stub/dtypes.py:541: FutureWarning: Passing (type, 1) or '1type' as a synonym of type is deprecated; in a future version of numpy, it will be understood as (type, (1,)) / '(1,)type'.\n",
      "  _np_qint8 = np.dtype([(\"qint8\", np.int8, 1)])\n",
      "/usr/local/lib/python3.7/dist-packages/tensorboard/compat/tensorflow_stub/dtypes.py:542: FutureWarning: Passing (type, 1) or '1type' as a synonym of type is deprecated; in a future version of numpy, it will be understood as (type, (1,)) / '(1,)type'.\n",
      "  _np_quint8 = np.dtype([(\"quint8\", np.uint8, 1)])\n",
      "/usr/local/lib/python3.7/dist-packages/tensorboard/compat/tensorflow_stub/dtypes.py:543: FutureWarning: Passing (type, 1) or '1type' as a synonym of type is deprecated; in a future version of numpy, it will be understood as (type, (1,)) / '(1,)type'.\n",
      "  _np_qint16 = np.dtype([(\"qint16\", np.int16, 1)])\n",
      "/usr/local/lib/python3.7/dist-packages/tensorboard/compat/tensorflow_stub/dtypes.py:544: FutureWarning: Passing (type, 1) or '1type' as a synonym of type is deprecated; in a future version of numpy, it will be understood as (type, (1,)) / '(1,)type'.\n",
      "  _np_quint16 = np.dtype([(\"quint16\", np.uint16, 1)])\n",
      "/usr/local/lib/python3.7/dist-packages/tensorboard/compat/tensorflow_stub/dtypes.py:545: FutureWarning: Passing (type, 1) or '1type' as a synonym of type is deprecated; in a future version of numpy, it will be understood as (type, (1,)) / '(1,)type'.\n",
      "  _np_qint32 = np.dtype([(\"qint32\", np.int32, 1)])\n",
      "/usr/local/lib/python3.7/dist-packages/tensorboard/compat/tensorflow_stub/dtypes.py:550: FutureWarning: Passing (type, 1) or '1type' as a synonym of type is deprecated; in a future version of numpy, it will be understood as (type, (1,)) / '(1,)type'.\n",
      "  np_resource = np.dtype([(\"resource\", np.ubyte, 1)])\n"
     ]
    },
    {
     "name": "stdout",
     "output_type": "stream",
     "text": [
      "1.14.0\n"
     ]
    },
    {
     "name": "stderr",
     "output_type": "stream",
     "text": [
      "/usr/local/lib/python3.7/dist-packages/statsmodels/tools/_testing.py:19: FutureWarning: pandas.util.testing is deprecated. Use the functions in the public API at pandas.testing instead.\n",
      "  import pandas.util.testing as tm\n"
     ]
    }
   ],
   "source": [
    "import os\n",
    "import json\n",
    "import numpy as np\n",
    "import matplotlib.pyplot as plt\n",
    "\n",
    "import tensorflow as tf\n",
    "print(tf.__version__)\n",
    "\n",
    "from src.data import data_layer\n",
    "from src.utils import deco_print"
   ]
  },
  {
   "cell_type": "markdown",
   "metadata": {
    "id": "6ZqZZSZudhem"
   },
   "source": [
    "# LoadData"
   ]
  },
  {
   "cell_type": "code",
   "execution_count": null,
   "metadata": {
    "colab": {
     "base_uri": "https://localhost:8080/"
    },
    "id": "L0tP8rV53MZP",
    "outputId": "b2df2f61-105b-41c7-a118-155aedc41f5e"
   },
   "outputs": [
    {
     "data": {
      "text/plain": [
       "(316, 127)"
      ]
     },
     "execution_count": 5,
     "metadata": {},
     "output_type": "execute_result"
    }
   ],
   "source": [
    "mac = np.load('./raw_data/macroeconomic/mac2022.npz', allow_pickle=True)\n",
    "mac['data'].shape"
   ]
  },
  {
   "cell_type": "code",
   "execution_count": null,
   "metadata": {
    "id": "hVW82wzLM01A"
   },
   "outputs": [],
   "source": [
    "class LoadData:\n",
    "    def __init__(self, pathMacroFeature, start_year, end_year):\n",
    "        self._UNK = -99.99\n",
    "        self._start_year = start_year\n",
    "        self._end_year = end_year\n",
    "        self._load_macro_feature(pathMacroFeature)\n",
    "        \n",
    "    def _load_macro_feature(self, pathMacroFeature):\n",
    "        tmp = np.load(pathMacroFeature, allow_pickle=True)\n",
    "        dates = tmp['date']\n",
    "\n",
    "        self._years = np.array([int(str(s)[:4]) for s in dates])\n",
    "        self._year_mask = ( (self._years >= self._start_year) & (self._years <= self._end_year) )\n",
    "\n",
    "        macro_idx = np.arange(len(tmp['variable']))\n",
    "        self._macroFeature = tmp['data'][:,macro_idx]\n",
    "        self._year_masked_macroFeature = self._macroFeature[self._year_mask]\n",
    "\n",
    "    def iterateOneEpoch(self, subEpoch=False):\n",
    "        if subEpoch:\n",
    "            for _ in range(subEpoch):\n",
    "                yield self._year_masked_macroFeature\n",
    "        else:\n",
    "            yield self._year_masked_macroFeature"
   ]
  },
  {
   "cell_type": "code",
   "execution_count": null,
   "metadata": {
    "colab": {
     "base_uri": "https://localhost:8080/"
    },
    "id": "VTHh0MbOOHrE",
    "outputId": "f6a09c48-12ba-451d-cb4f-c0267e2a1978"
   },
   "outputs": [
    {
     "name": "stdout",
     "output_type": "stream",
     "text": [
      "dl\n",
      "(316, 127)\n"
     ]
    }
   ],
   "source": [
    "dl = LoadData(\n",
    "            pathMacroFeature='./raw_data/macroeconomic/mac2022.npz',\n",
    "            start_year=1996, \n",
    "            end_year=2022)\n",
    "\n",
    "for _, (I_macro) in enumerate(dl.iterateOneEpoch(subEpoch=False)):\n",
    "    print('dl')\n",
    "    print(I_macro.shape)"
   ]
  },
  {
   "cell_type": "markdown",
   "metadata": {
    "id": "afxm5qvLg8Y7"
   },
   "source": [
    "# Config"
   ]
  },
  {
   "cell_type": "code",
   "execution_count": null,
   "metadata": {
    "id": "d4Bf5D6SR6RP"
   },
   "outputs": [],
   "source": [
    "#### Delete all flags before declare #####\n",
    "\n",
    "def del_all_flags(FLAGS):\n",
    "    flags_dict = FLAGS._flags()    \n",
    "    keys_list = [keys for keys in flags_dict]    \n",
    "    for keys in keys_list:\n",
    "        FLAGS.__delattr__(keys)"
   ]
  },
  {
   "cell_type": "markdown",
   "metadata": {
    "id": "pXv6SbUwVMIa"
   },
   "source": [
    "- tensorflow의 flag란?\n",
    "- https://daeson.tistory.com/256"
   ]
  },
  {
   "cell_type": "code",
   "execution_count": null,
   "metadata": {
    "id": "Jzx2JmBrO4G4"
   },
   "outputs": [],
   "source": [
    "del_all_flags(tf.flags.FLAGS)\n",
    "tf.flags.DEFINE_string(\"f\", \"\", \"kernel\") # 주피터 노트북에서 돌릴땐 이 코드 추가해야 돌아감\n",
    "\n",
    "tf.flags.DEFINE_string('config', path+'/config/config.json', 'Path to the file with configurations')\n",
    "tf.flags.DEFINE_string('logdir', '', 'Path to save logs and checkpoints')\n",
    "\n",
    "tf.flags.DEFINE_integer('saveBestFreq', -1, 'Frequency to save best model')\n",
    "tf.flags.DEFINE_boolean('printOnConsole', True, 'Print on console or not')\n",
    "tf.flags.DEFINE_boolean('saveLog', True, 'Save log or not')\n",
    "tf.flags.DEFINE_integer('printFreq', 128, 'Frequency to print on console')\n",
    "tf.flags.DEFINE_integer('ignoreEpoch', 64, 'Ignore first several epochs')\n",
    "\n",
    "FLAGS = tf.flags.FLAGS"
   ]
  },
  {
   "cell_type": "code",
   "execution_count": null,
   "metadata": {
    "colab": {
     "base_uri": "https://localhost:8080/"
    },
    "id": "97zcXLnWW-rw",
    "outputId": "e11f28c4-46ac-4faf-8a71-caa10d57c083"
   },
   "outputs": [
    {
     "name": "stdout",
     "output_type": "stream",
     "text": [
      ">==================> Read the following in config: \n",
      "{\n",
      "    \"num_epochs\": 100,\n",
      "    \"learning_rate\": 0.01,\n",
      "    \"optimizer\": \"Adam\",\n",
      "    \"num_layers\": 2,\n",
      "    \"hidden_dim\": [\n",
      "        64,\n",
      "        64,\n",
      "        64,\n",
      "        64\n",
      "    ],\n",
      "    \"num_layers_moment\": 0,\n",
      "    \"num_units_rnn\": [\n",
      "        4\n",
      "    ],\n",
      "    \"macro_feature_file_test\": \"datasets/macro/macro_test.npz\",\n",
      "    \"macro_feature_file\": \"datasets/macro/macro_train.npz\",\n",
      "    \"use_rnn\": true,\n",
      "    \"weighted_loss\": true,\n",
      "    \"cell_type_rnn_moment\": \"lstm\",\n",
      "    \"cell_type_rnn\": \"lstm\",\n",
      "    \"macro_feature_file_valid\": \"datasets/macro/macro_valid.npz\",\n",
      "    \"num_epochs_moment\": 64,\n",
      "    \"tSize\": 192,\n",
      "    \"individual_feature_dim\": 48,\n",
      "    \"macro_feature_dim\": 127,\n",
      "    \"num_condition_moment\": 8,\n",
      "    \"loss_factor\": 1.0,\n",
      "    \"num_layers_rnn_moment\": 1,\n",
      "    \"individual_feature_file_valid\": \"datasets/char/Char_valid.npz\",\n",
      "    \"individual_feature_file\": \"datasets/char/Char_train.npz\",\n",
      "    \"num_units_rnn_moment\": [\n",
      "        32\n",
      "    ],\n",
      "    \"num_epochs_unc\": 256,\n",
      "    \"dropout\": 0.95,\n",
      "    \"num_layers_rnn\": 1,\n",
      "    \"sub_epoch\": 4,\n",
      "    \"individual_feature_file_test\": \"datasets/char/Char_test.npz\",\n",
      "    \"hidden_dim_moment\": [],\n",
      "    \"macro_idx\": null\n",
      "}\n"
     ]
    }
   ],
   "source": [
    "with open(FLAGS.config, 'r') as file:\n",
    "    config = json.load(file)\n",
    "    if not 'macro_idx' in config:\n",
    "        config['macro_idx'] = None\n",
    "\n",
    "deco_print('Read the following in config: ')\n",
    "print(json.dumps(config, indent=4))"
   ]
  },
  {
   "cell_type": "markdown",
   "metadata": {
    "id": "0ddayfZJ-NRB"
   },
   "source": [
    "# get hidden states"
   ]
  },
  {
   "cell_type": "code",
   "execution_count": null,
   "metadata": {
    "id": "CHEgX5VRQiA-"
   },
   "outputs": [],
   "source": [
    "from tensorflow.python.ops.rnn_cell import BasicRNNCell\n",
    "from tensorflow.python.ops.rnn_cell import GRUCell\n",
    "from tensorflow.python.ops.rnn_cell import LSTMCell\n",
    "from tensorflow.python.ops.rnn_cell import DropoutWrapper\n",
    "from tensorflow.python.ops.rnn_cell import MultiRNNCell\n",
    "\n",
    "def create_rnn_cell(cell_type, num_units, num_layers=1, dp_input_keep_prob=1.0, dp_output_keep_prob=1.0):\n",
    "\tdef single_cell(num_units):\n",
    "\t\tif cell_type == 'rnn':\n",
    "\t\t\tcell_class = BasicRNNCell\n",
    "\t\telif cell_type == 'gru':\n",
    "\t\t\tcell_class = GRUCell\n",
    "\t\telif cell_type == 'lstm':\n",
    "\t\t\tcell_class = LSTMCell\n",
    "\t\telse:\n",
    "\t\t\traise ValueError('Cell Type Not Supported! ')\n",
    "\n",
    "\t\tif dp_input_keep_prob != 1.0 or dp_output_keep_prob != 1.0:\n",
    "\t\t\treturn DropoutWrapper(cell_class(num_units=num_units),\n",
    "\t\t\t\tinput_keep_prob=dp_input_keep_prob,\n",
    "\t\t\t\toutput_keep_prob=dp_output_keep_prob)\n",
    "\t\telse:\n",
    "\t\t\treturn cell_class(num_units=num_units)\n",
    "\n",
    "\tassert(len(num_units) == num_layers)\n",
    "\tif num_layers > 1:\n",
    "\t\treturn MultiRNNCell([single_cell(num_units[i]) for i in range(num_layers)])\n",
    "\telse:\n",
    "\t\treturn single_cell(num_units[0])"
   ]
  },
  {
   "cell_type": "code",
   "execution_count": null,
   "metadata": {
    "id": "6KrIngoMQh-o"
   },
   "outputs": [],
   "source": [
    "def initial_state_size(cell_type, num_units):\n",
    "\tstate_size = sum(num_units)\n",
    "\treturn state_size * 2"
   ]
  },
  {
   "cell_type": "code",
   "execution_count": null,
   "metadata": {
    "id": "Xg2jr8PjQmKW"
   },
   "outputs": [],
   "source": [
    "from tensorflow.python.ops.rnn_cell_impl import LSTMStateTuple\n",
    "\n",
    "class HiddenStates():\n",
    "    '''\n",
    "    macSize : 316\n",
    "    '''\n",
    "    def __init__(self, model_params, macSize=316, force_var_reuse=False, global_step=None):\n",
    "        # super(Model, self).__init__(model_params, global_step)\n",
    "        self._force_var_reuse = force_var_reuse\n",
    "        self.model_params = model_params\n",
    "        self._global_step = global_step\n",
    "\n",
    "        # ---- placeholders ---- #\n",
    "        self._macSize = macSize\n",
    "        self._macro_feature_dim = self.model_params['macro_feature_dim']\n",
    "        self._I_macro_placeholder = tf.placeholder(dtype=tf.float32, shape=[self._macSize, self._macro_feature_dim], name='macroFeaturePlaceholder')\n",
    "        self._dropout_placeholder = tf.placeholder_with_default(1.0, shape=[], name='Dropout')\n",
    "        \n",
    "        ### rnn input ###\n",
    "        _I_macro_placeholder = self._I_macro_placeholder ; print('_I_macro_placeholder', _I_macro_placeholder.shape)\n",
    "        self._rnn_input = tf.expand_dims(self._I_macro_placeholder, axis=0) \n",
    "        rnn_input = self._rnn_input ; print('rnn_input: ', rnn_input.shape)\n",
    "\n",
    "        with tf.variable_scope(name_or_scope='Model_Layer', reuse=self._force_var_reuse):\n",
    "            self.build()\n",
    "\n",
    "    def build(self):\n",
    "\n",
    "        with tf.variable_scope('RNN_Layer'):\n",
    "            rnn_cell = create_rnn_cell(\n",
    "                        cell_type=self.model_params['cell_type_rnn'], # lstm\n",
    "                        num_units=self.model_params['num_units_rnn'], # 4\n",
    "                        num_layers=self.model_params['num_layers_rnn'], # 1\n",
    "                        dp_input_keep_prob=self._dropout_placeholder,\n",
    "                        dp_output_keep_prob=1.0\n",
    "                        )\n",
    "\n",
    "            rnn_outputs, rnn_state = tf.nn.dynamic_rnn(\n",
    "                        cell=rnn_cell,\n",
    "                        inputs=self._rnn_input,\n",
    "                        # initial_state=self._initial_state,\n",
    "                        dtype=tf.float32)\n",
    "            self._rnn_state = rnn_state\n",
    "            self._rnn_outputs = rnn_outputs\n",
    "            print('rnn_outputs: ', rnn_outputs.shape)\n",
    "            \n",
    "            self._macro_nn_input = tf.squeeze(rnn_outputs, axis=0) # RNN 통과해서 나온 macro 변수들의 hidden state\n",
    "            _macro_nn_input = self._macro_nn_input ; print('_macro_nn_input', _macro_nn_input.shape)\n",
    "\n",
    "    def getHiddenStates(self, sess, dl):\n",
    "        ###### initialize variables ######\n",
    "        init_g = tf.global_variables_initializer()\n",
    "        init_l = tf.local_variables_initializer()\n",
    "        sess.run(init_g)\n",
    "        sess.run(init_l)\n",
    "\n",
    "        for _, (I_macro) in enumerate(dl.iterateOneEpoch(subEpoch=False)):\n",
    "            feed_dict = {self._I_macro_placeholder:I_macro,\n",
    "                         self._dropout_placeholder:1.0\n",
    "                        }\n",
    "            hidden_states = sess.run(fetches=[self._macro_nn_input], feed_dict=feed_dict)\n",
    "            return hidden_states"
   ]
  },
  {
   "cell_type": "code",
   "execution_count": null,
   "metadata": {
    "colab": {
     "base_uri": "https://localhost:8080/"
    },
    "id": "xSdu26tkQ25P",
    "outputId": "d6308883-54a2-4153-b944-39cdbc9d18f0"
   },
   "outputs": [
    {
     "name": "stdout",
     "output_type": "stream",
     "text": [
      "_I_macro_placeholder (316, 127)\n",
      "rnn_input:  (1, 316, 127)\n",
      "WARNING:tensorflow:From <ipython-input-12-83f572fabe0a>:19: LSTMCell.__init__ (from tensorflow.python.ops.rnn_cell_impl) is deprecated and will be removed in a future version.\n",
      "Instructions for updating:\n",
      "This class is equivalent as tf.keras.layers.LSTMCell, and will be replaced by that in Tensorflow 2.0.\n",
      "WARNING:tensorflow:From <ipython-input-15-2430f1dca0d3>:42: dynamic_rnn (from tensorflow.python.ops.rnn) is deprecated and will be removed in a future version.\n",
      "Instructions for updating:\n",
      "Please use `keras.layers.RNN(cell)`, which is equivalent to this API\n",
      "WARNING:tensorflow:From /usr/local/lib/python3.7/dist-packages/tensorflow/python/ops/init_ops.py:1251: calling VarianceScaling.__init__ (from tensorflow.python.ops.init_ops) with dtype is deprecated and will be removed in a future version.\n",
      "Instructions for updating:\n",
      "Call initializer instance with the dtype argument instead of passing it to the constructor\n",
      "WARNING:tensorflow:From /usr/local/lib/python3.7/dist-packages/tensorflow/python/ops/rnn_cell_impl.py:961: calling Zeros.__init__ (from tensorflow.python.ops.init_ops) with dtype is deprecated and will be removed in a future version.\n",
      "Instructions for updating:\n",
      "Call initializer instance with the dtype argument instead of passing it to the constructor\n",
      "WARNING:tensorflow:Entity <bound method LSTMCell.call of <tensorflow.python.ops.rnn_cell_impl.LSTMCell object at 0x7f5c1cc67b50>> could not be transformed and will be executed as-is. Please report this to the AutgoGraph team. When filing the bug, set the verbosity to 10 (on Linux, `export AUTOGRAPH_VERBOSITY=10`) and attach the full output. Cause: converting <bound method LSTMCell.call of <tensorflow.python.ops.rnn_cell_impl.LSTMCell object at 0x7f5c1cc67b50>>: AttributeError: module 'gast' has no attribute 'Index'\n",
      "WARNING: Entity <bound method LSTMCell.call of <tensorflow.python.ops.rnn_cell_impl.LSTMCell object at 0x7f5c1cc67b50>> could not be transformed and will be executed as-is. Please report this to the AutgoGraph team. When filing the bug, set the verbosity to 10 (on Linux, `export AUTOGRAPH_VERBOSITY=10`) and attach the full output. Cause: converting <bound method LSTMCell.call of <tensorflow.python.ops.rnn_cell_impl.LSTMCell object at 0x7f5c1cc67b50>>: AttributeError: module 'gast' has no attribute 'Index'\n",
      "rnn_outputs:  (1, 316, 4)\n",
      "_macro_nn_input (316, 4)\n"
     ]
    }
   ],
   "source": [
    "model_params = config\n",
    "tf.reset_default_graph()\n",
    "global_step = tf.train.get_or_create_global_step()\n",
    "hs_model = HiddenStates(model_params=config, macSize=316, global_step=global_step)"
   ]
  },
  {
   "cell_type": "code",
   "execution_count": null,
   "metadata": {
    "colab": {
     "base_uri": "https://localhost:8080/"
    },
    "id": "WH-ToaHi2fJN",
    "outputId": "658677f5-a4ea-4749-fc28-8e7dd2d5360e"
   },
   "outputs": [
    {
     "name": "stdout",
     "output_type": "stream",
     "text": [
      "(316, 4)\n"
     ]
    }
   ],
   "source": [
    "sess = tf.Session()\n",
    "hidden_states = hs_model.getHiddenStates(sess, dl)\n",
    "print(hidden_states[0].shape)"
   ]
  },
  {
   "cell_type": "code",
   "execution_count": null,
   "metadata": {
    "id": "wYYiT4eol6DI"
   },
   "outputs": [],
   "source": [
    "import pandas as pd\n",
    "hidden_states_df = pd.DataFrame(hidden_states[0])\n",
    "\n",
    "hidden_states_df.rename({0:'hs1', 1:'hs2', 2:'hs3', 3:'hs4'}, axis=1, inplace=True)"
   ]
  },
  {
   "cell_type": "code",
   "execution_count": null,
   "metadata": {
    "id": "zxMeOc0UqOZS"
   },
   "outputs": [],
   "source": [
    "lis = pd.date_range(start=\"1996-01-01\", end=\"2022-04-30\", freq='M') \n",
    "lis = [date_obj.strftime('%Y-%m-%d') for date_obj in lis]\n",
    "lis = pd.DataFrame({'date':lis})\n",
    "lis['date'] = pd.to_datetime(lis['date'])"
   ]
  },
  {
   "cell_type": "code",
   "execution_count": null,
   "metadata": {
    "colab": {
     "base_uri": "https://localhost:8080/",
     "height": 423
    },
    "id": "LbX6LMsGRh1y",
    "outputId": "58659093-f140-4ad7-fb8e-8f01c707704b"
   },
   "outputs": [
    {
     "data": {
      "text/html": [
       "\n",
       "  <div id=\"df-6f8d7498-c229-4415-be9f-c2b2cd3cef1a\">\n",
       "    <div class=\"colab-df-container\">\n",
       "      <div>\n",
       "<style scoped>\n",
       "    .dataframe tbody tr th:only-of-type {\n",
       "        vertical-align: middle;\n",
       "    }\n",
       "\n",
       "    .dataframe tbody tr th {\n",
       "        vertical-align: top;\n",
       "    }\n",
       "\n",
       "    .dataframe thead th {\n",
       "        text-align: right;\n",
       "    }\n",
       "</style>\n",
       "<table border=\"1\" class=\"dataframe\">\n",
       "  <thead>\n",
       "    <tr style=\"text-align: right;\">\n",
       "      <th></th>\n",
       "      <th>date</th>\n",
       "    </tr>\n",
       "  </thead>\n",
       "  <tbody>\n",
       "    <tr>\n",
       "      <th>0</th>\n",
       "      <td>1996-01-31</td>\n",
       "    </tr>\n",
       "    <tr>\n",
       "      <th>1</th>\n",
       "      <td>1996-02-29</td>\n",
       "    </tr>\n",
       "    <tr>\n",
       "      <th>2</th>\n",
       "      <td>1996-03-31</td>\n",
       "    </tr>\n",
       "    <tr>\n",
       "      <th>3</th>\n",
       "      <td>1996-04-30</td>\n",
       "    </tr>\n",
       "    <tr>\n",
       "      <th>4</th>\n",
       "      <td>1996-05-31</td>\n",
       "    </tr>\n",
       "    <tr>\n",
       "      <th>...</th>\n",
       "      <td>...</td>\n",
       "    </tr>\n",
       "    <tr>\n",
       "      <th>311</th>\n",
       "      <td>2021-12-31</td>\n",
       "    </tr>\n",
       "    <tr>\n",
       "      <th>312</th>\n",
       "      <td>2022-01-31</td>\n",
       "    </tr>\n",
       "    <tr>\n",
       "      <th>313</th>\n",
       "      <td>2022-02-28</td>\n",
       "    </tr>\n",
       "    <tr>\n",
       "      <th>314</th>\n",
       "      <td>2022-03-31</td>\n",
       "    </tr>\n",
       "    <tr>\n",
       "      <th>315</th>\n",
       "      <td>2022-04-30</td>\n",
       "    </tr>\n",
       "  </tbody>\n",
       "</table>\n",
       "<p>316 rows × 1 columns</p>\n",
       "</div>\n",
       "      <button class=\"colab-df-convert\" onclick=\"convertToInteractive('df-6f8d7498-c229-4415-be9f-c2b2cd3cef1a')\"\n",
       "              title=\"Convert this dataframe to an interactive table.\"\n",
       "              style=\"display:none;\">\n",
       "        \n",
       "  <svg xmlns=\"http://www.w3.org/2000/svg\" height=\"24px\"viewBox=\"0 0 24 24\"\n",
       "       width=\"24px\">\n",
       "    <path d=\"M0 0h24v24H0V0z\" fill=\"none\"/>\n",
       "    <path d=\"M18.56 5.44l.94 2.06.94-2.06 2.06-.94-2.06-.94-.94-2.06-.94 2.06-2.06.94zm-11 1L8.5 8.5l.94-2.06 2.06-.94-2.06-.94L8.5 2.5l-.94 2.06-2.06.94zm10 10l.94 2.06.94-2.06 2.06-.94-2.06-.94-.94-2.06-.94 2.06-2.06.94z\"/><path d=\"M17.41 7.96l-1.37-1.37c-.4-.4-.92-.59-1.43-.59-.52 0-1.04.2-1.43.59L10.3 9.45l-7.72 7.72c-.78.78-.78 2.05 0 2.83L4 21.41c.39.39.9.59 1.41.59.51 0 1.02-.2 1.41-.59l7.78-7.78 2.81-2.81c.8-.78.8-2.07 0-2.86zM5.41 20L4 18.59l7.72-7.72 1.47 1.35L5.41 20z\"/>\n",
       "  </svg>\n",
       "      </button>\n",
       "      \n",
       "  <style>\n",
       "    .colab-df-container {\n",
       "      display:flex;\n",
       "      flex-wrap:wrap;\n",
       "      gap: 12px;\n",
       "    }\n",
       "\n",
       "    .colab-df-convert {\n",
       "      background-color: #E8F0FE;\n",
       "      border: none;\n",
       "      border-radius: 50%;\n",
       "      cursor: pointer;\n",
       "      display: none;\n",
       "      fill: #1967D2;\n",
       "      height: 32px;\n",
       "      padding: 0 0 0 0;\n",
       "      width: 32px;\n",
       "    }\n",
       "\n",
       "    .colab-df-convert:hover {\n",
       "      background-color: #E2EBFA;\n",
       "      box-shadow: 0px 1px 2px rgba(60, 64, 67, 0.3), 0px 1px 3px 1px rgba(60, 64, 67, 0.15);\n",
       "      fill: #174EA6;\n",
       "    }\n",
       "\n",
       "    [theme=dark] .colab-df-convert {\n",
       "      background-color: #3B4455;\n",
       "      fill: #D2E3FC;\n",
       "    }\n",
       "\n",
       "    [theme=dark] .colab-df-convert:hover {\n",
       "      background-color: #434B5C;\n",
       "      box-shadow: 0px 1px 3px 1px rgba(0, 0, 0, 0.15);\n",
       "      filter: drop-shadow(0px 1px 2px rgba(0, 0, 0, 0.3));\n",
       "      fill: #FFFFFF;\n",
       "    }\n",
       "  </style>\n",
       "\n",
       "      <script>\n",
       "        const buttonEl =\n",
       "          document.querySelector('#df-6f8d7498-c229-4415-be9f-c2b2cd3cef1a button.colab-df-convert');\n",
       "        buttonEl.style.display =\n",
       "          google.colab.kernel.accessAllowed ? 'block' : 'none';\n",
       "\n",
       "        async function convertToInteractive(key) {\n",
       "          const element = document.querySelector('#df-6f8d7498-c229-4415-be9f-c2b2cd3cef1a');\n",
       "          const dataTable =\n",
       "            await google.colab.kernel.invokeFunction('convertToInteractive',\n",
       "                                                     [key], {});\n",
       "          if (!dataTable) return;\n",
       "\n",
       "          const docLinkHtml = 'Like what you see? Visit the ' +\n",
       "            '<a target=\"_blank\" href=https://colab.research.google.com/notebooks/data_table.ipynb>data table notebook</a>'\n",
       "            + ' to learn more about interactive tables.';\n",
       "          element.innerHTML = '';\n",
       "          dataTable['output_type'] = 'display_data';\n",
       "          await google.colab.output.renderOutput(dataTable, element);\n",
       "          const docLink = document.createElement('div');\n",
       "          docLink.innerHTML = docLinkHtml;\n",
       "          element.appendChild(docLink);\n",
       "        }\n",
       "      </script>\n",
       "    </div>\n",
       "  </div>\n",
       "  "
      ],
      "text/plain": [
       "          date\n",
       "0   1996-01-31\n",
       "1   1996-02-29\n",
       "2   1996-03-31\n",
       "3   1996-04-30\n",
       "4   1996-05-31\n",
       "..         ...\n",
       "311 2021-12-31\n",
       "312 2022-01-31\n",
       "313 2022-02-28\n",
       "314 2022-03-31\n",
       "315 2022-04-30\n",
       "\n",
       "[316 rows x 1 columns]"
      ]
     },
     "execution_count": 32,
     "metadata": {},
     "output_type": "execute_result"
    }
   ],
   "source": [
    "lis"
   ]
  },
  {
   "cell_type": "code",
   "execution_count": null,
   "metadata": {
    "id": "dv0qIRakqOXK"
   },
   "outputs": [],
   "source": [
    "hidden_states_df = pd.concat([lis, hidden_states_df], axis=1)"
   ]
  },
  {
   "cell_type": "code",
   "execution_count": null,
   "metadata": {
    "colab": {
     "base_uri": "https://localhost:8080/",
     "height": 423
    },
    "id": "3tBMjRcNFg1s",
    "outputId": "3e0fdd8d-eb9e-41df-b704-9f5e72904222"
   },
   "outputs": [
    {
     "data": {
      "text/html": [
       "\n",
       "  <div id=\"df-fcba1e22-7fcb-4cfd-8333-5958a3313794\">\n",
       "    <div class=\"colab-df-container\">\n",
       "      <div>\n",
       "<style scoped>\n",
       "    .dataframe tbody tr th:only-of-type {\n",
       "        vertical-align: middle;\n",
       "    }\n",
       "\n",
       "    .dataframe tbody tr th {\n",
       "        vertical-align: top;\n",
       "    }\n",
       "\n",
       "    .dataframe thead th {\n",
       "        text-align: right;\n",
       "    }\n",
       "</style>\n",
       "<table border=\"1\" class=\"dataframe\">\n",
       "  <thead>\n",
       "    <tr style=\"text-align: right;\">\n",
       "      <th></th>\n",
       "      <th>date</th>\n",
       "      <th>hs1</th>\n",
       "      <th>hs2</th>\n",
       "      <th>hs3</th>\n",
       "      <th>hs4</th>\n",
       "    </tr>\n",
       "  </thead>\n",
       "  <tbody>\n",
       "    <tr>\n",
       "      <th>0</th>\n",
       "      <td>1996-01-31</td>\n",
       "      <td>0.022903</td>\n",
       "      <td>-0.143527</td>\n",
       "      <td>-0.075930</td>\n",
       "      <td>0.115051</td>\n",
       "    </tr>\n",
       "    <tr>\n",
       "      <th>1</th>\n",
       "      <td>1996-02-29</td>\n",
       "      <td>-0.084758</td>\n",
       "      <td>-0.191410</td>\n",
       "      <td>-0.100266</td>\n",
       "      <td>0.177098</td>\n",
       "    </tr>\n",
       "    <tr>\n",
       "      <th>2</th>\n",
       "      <td>1996-03-31</td>\n",
       "      <td>-0.074154</td>\n",
       "      <td>-0.174632</td>\n",
       "      <td>-0.104189</td>\n",
       "      <td>0.196434</td>\n",
       "    </tr>\n",
       "    <tr>\n",
       "      <th>3</th>\n",
       "      <td>1996-04-30</td>\n",
       "      <td>0.017234</td>\n",
       "      <td>-0.075972</td>\n",
       "      <td>-0.138881</td>\n",
       "      <td>0.225288</td>\n",
       "    </tr>\n",
       "    <tr>\n",
       "      <th>4</th>\n",
       "      <td>1996-05-31</td>\n",
       "      <td>0.044322</td>\n",
       "      <td>-0.456727</td>\n",
       "      <td>-0.163345</td>\n",
       "      <td>0.094094</td>\n",
       "    </tr>\n",
       "    <tr>\n",
       "      <th>...</th>\n",
       "      <td>...</td>\n",
       "      <td>...</td>\n",
       "      <td>...</td>\n",
       "      <td>...</td>\n",
       "      <td>...</td>\n",
       "    </tr>\n",
       "    <tr>\n",
       "      <th>311</th>\n",
       "      <td>2021-12-31</td>\n",
       "      <td>-0.039253</td>\n",
       "      <td>-0.119768</td>\n",
       "      <td>-0.137271</td>\n",
       "      <td>0.083944</td>\n",
       "    </tr>\n",
       "    <tr>\n",
       "      <th>312</th>\n",
       "      <td>2022-01-31</td>\n",
       "      <td>-0.081208</td>\n",
       "      <td>-0.207680</td>\n",
       "      <td>-0.202407</td>\n",
       "      <td>0.118454</td>\n",
       "    </tr>\n",
       "    <tr>\n",
       "      <th>313</th>\n",
       "      <td>2022-02-28</td>\n",
       "      <td>-0.064052</td>\n",
       "      <td>-0.107213</td>\n",
       "      <td>-0.121080</td>\n",
       "      <td>0.141095</td>\n",
       "    </tr>\n",
       "    <tr>\n",
       "      <th>314</th>\n",
       "      <td>2022-03-31</td>\n",
       "      <td>-0.021913</td>\n",
       "      <td>-0.104888</td>\n",
       "      <td>-0.178740</td>\n",
       "      <td>0.176583</td>\n",
       "    </tr>\n",
       "    <tr>\n",
       "      <th>315</th>\n",
       "      <td>2022-04-30</td>\n",
       "      <td>0.013325</td>\n",
       "      <td>-0.109220</td>\n",
       "      <td>-0.188333</td>\n",
       "      <td>0.201438</td>\n",
       "    </tr>\n",
       "  </tbody>\n",
       "</table>\n",
       "<p>316 rows × 5 columns</p>\n",
       "</div>\n",
       "      <button class=\"colab-df-convert\" onclick=\"convertToInteractive('df-fcba1e22-7fcb-4cfd-8333-5958a3313794')\"\n",
       "              title=\"Convert this dataframe to an interactive table.\"\n",
       "              style=\"display:none;\">\n",
       "        \n",
       "  <svg xmlns=\"http://www.w3.org/2000/svg\" height=\"24px\"viewBox=\"0 0 24 24\"\n",
       "       width=\"24px\">\n",
       "    <path d=\"M0 0h24v24H0V0z\" fill=\"none\"/>\n",
       "    <path d=\"M18.56 5.44l.94 2.06.94-2.06 2.06-.94-2.06-.94-.94-2.06-.94 2.06-2.06.94zm-11 1L8.5 8.5l.94-2.06 2.06-.94-2.06-.94L8.5 2.5l-.94 2.06-2.06.94zm10 10l.94 2.06.94-2.06 2.06-.94-2.06-.94-.94-2.06-.94 2.06-2.06.94z\"/><path d=\"M17.41 7.96l-1.37-1.37c-.4-.4-.92-.59-1.43-.59-.52 0-1.04.2-1.43.59L10.3 9.45l-7.72 7.72c-.78.78-.78 2.05 0 2.83L4 21.41c.39.39.9.59 1.41.59.51 0 1.02-.2 1.41-.59l7.78-7.78 2.81-2.81c.8-.78.8-2.07 0-2.86zM5.41 20L4 18.59l7.72-7.72 1.47 1.35L5.41 20z\"/>\n",
       "  </svg>\n",
       "      </button>\n",
       "      \n",
       "  <style>\n",
       "    .colab-df-container {\n",
       "      display:flex;\n",
       "      flex-wrap:wrap;\n",
       "      gap: 12px;\n",
       "    }\n",
       "\n",
       "    .colab-df-convert {\n",
       "      background-color: #E8F0FE;\n",
       "      border: none;\n",
       "      border-radius: 50%;\n",
       "      cursor: pointer;\n",
       "      display: none;\n",
       "      fill: #1967D2;\n",
       "      height: 32px;\n",
       "      padding: 0 0 0 0;\n",
       "      width: 32px;\n",
       "    }\n",
       "\n",
       "    .colab-df-convert:hover {\n",
       "      background-color: #E2EBFA;\n",
       "      box-shadow: 0px 1px 2px rgba(60, 64, 67, 0.3), 0px 1px 3px 1px rgba(60, 64, 67, 0.15);\n",
       "      fill: #174EA6;\n",
       "    }\n",
       "\n",
       "    [theme=dark] .colab-df-convert {\n",
       "      background-color: #3B4455;\n",
       "      fill: #D2E3FC;\n",
       "    }\n",
       "\n",
       "    [theme=dark] .colab-df-convert:hover {\n",
       "      background-color: #434B5C;\n",
       "      box-shadow: 0px 1px 3px 1px rgba(0, 0, 0, 0.15);\n",
       "      filter: drop-shadow(0px 1px 2px rgba(0, 0, 0, 0.3));\n",
       "      fill: #FFFFFF;\n",
       "    }\n",
       "  </style>\n",
       "\n",
       "      <script>\n",
       "        const buttonEl =\n",
       "          document.querySelector('#df-fcba1e22-7fcb-4cfd-8333-5958a3313794 button.colab-df-convert');\n",
       "        buttonEl.style.display =\n",
       "          google.colab.kernel.accessAllowed ? 'block' : 'none';\n",
       "\n",
       "        async function convertToInteractive(key) {\n",
       "          const element = document.querySelector('#df-fcba1e22-7fcb-4cfd-8333-5958a3313794');\n",
       "          const dataTable =\n",
       "            await google.colab.kernel.invokeFunction('convertToInteractive',\n",
       "                                                     [key], {});\n",
       "          if (!dataTable) return;\n",
       "\n",
       "          const docLinkHtml = 'Like what you see? Visit the ' +\n",
       "            '<a target=\"_blank\" href=https://colab.research.google.com/notebooks/data_table.ipynb>data table notebook</a>'\n",
       "            + ' to learn more about interactive tables.';\n",
       "          element.innerHTML = '';\n",
       "          dataTable['output_type'] = 'display_data';\n",
       "          await google.colab.output.renderOutput(dataTable, element);\n",
       "          const docLink = document.createElement('div');\n",
       "          docLink.innerHTML = docLinkHtml;\n",
       "          element.appendChild(docLink);\n",
       "        }\n",
       "      </script>\n",
       "    </div>\n",
       "  </div>\n",
       "  "
      ],
      "text/plain": [
       "          date       hs1       hs2       hs3       hs4\n",
       "0   1996-01-31  0.022903 -0.143527 -0.075930  0.115051\n",
       "1   1996-02-29 -0.084758 -0.191410 -0.100266  0.177098\n",
       "2   1996-03-31 -0.074154 -0.174632 -0.104189  0.196434\n",
       "3   1996-04-30  0.017234 -0.075972 -0.138881  0.225288\n",
       "4   1996-05-31  0.044322 -0.456727 -0.163345  0.094094\n",
       "..         ...       ...       ...       ...       ...\n",
       "311 2021-12-31 -0.039253 -0.119768 -0.137271  0.083944\n",
       "312 2022-01-31 -0.081208 -0.207680 -0.202407  0.118454\n",
       "313 2022-02-28 -0.064052 -0.107213 -0.121080  0.141095\n",
       "314 2022-03-31 -0.021913 -0.104888 -0.178740  0.176583\n",
       "315 2022-04-30  0.013325 -0.109220 -0.188333  0.201438\n",
       "\n",
       "[316 rows x 5 columns]"
      ]
     },
     "execution_count": 34,
     "metadata": {},
     "output_type": "execute_result"
    }
   ],
   "source": [
    "hidden_states_df"
   ]
  },
  {
   "cell_type": "code",
   "execution_count": null,
   "metadata": {
    "id": "YE5JEhUAqObO"
   },
   "outputs": [],
   "source": [
    "hidden_states_df.to_csv('hidden_states_df2022.csv', index=False)"
   ]
  },
  {
   "cell_type": "code",
   "execution_count": null,
   "metadata": {
    "id": "5lAB6v1JwWIt"
   },
   "outputs": [],
   "source": []
  }
 ],
 "metadata": {
  "colab": {
   "collapsed_sections": [
    "afxm5qvLg8Y7"
   ],
   "provenance": []
  },
  "kernelspec": {
   "display_name": "Python 3 (ipykernel)",
   "language": "python",
   "name": "python3"
  },
  "language_info": {
   "codemirror_mode": {
    "name": "ipython",
    "version": 3
   },
   "file_extension": ".py",
   "mimetype": "text/x-python",
   "name": "python",
   "nbconvert_exporter": "python",
   "pygments_lexer": "ipython3",
   "version": "3.9.7"
  }
 },
 "nbformat": 4,
 "nbformat_minor": 1
}
