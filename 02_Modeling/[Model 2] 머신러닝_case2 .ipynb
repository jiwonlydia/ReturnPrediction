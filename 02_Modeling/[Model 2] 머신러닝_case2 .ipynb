{
 "cells": [
  {
   "cell_type": "markdown",
   "id": "4bf6bd7e",
   "metadata": {
    "id": "4bf6bd7e"
   },
   "source": [
    "### macro 변수들을 lstm에 넣어서 추출한 4개의 hidden states를 머신러닝 모델의 설명변수로 사용하기"
   ]
  },
  {
   "cell_type": "code",
   "execution_count": 1,
   "id": "781d8829",
   "metadata": {
    "executionInfo": {
     "elapsed": 931,
     "status": "ok",
     "timestamp": 1658398634874,
     "user": {
      "displayName": "­박지원(자연과학대학 통계학과)",
      "userId": "00749668697861991358"
     },
     "user_tz": -540
    },
    "id": "781d8829"
   },
   "outputs": [],
   "source": [
    "import pandas as pd\n",
    "import numpy as np\n",
    "import os"
   ]
  },
  {
   "cell_type": "code",
   "execution_count": 2,
   "id": "dd8f5c29",
   "metadata": {
    "executionInfo": {
     "elapsed": 12,
     "status": "ok",
     "timestamp": 1658398647917,
     "user": {
      "displayName": "­박지원(자연과학대학 통계학과)",
      "userId": "00749668697861991358"
     },
     "user_tz": -540
    },
    "id": "dd8f5c29"
   },
   "outputs": [],
   "source": [
    "from sklearn.preprocessing import MinMaxScaler\n",
    "\n",
    "# min max scaling을 하기 위한 함수\n",
    "def my_scaler(scaling_features, train_data, test_data):\n",
    "    '''\n",
    "    scaling_features: min max scaling을 적용할 변수들 리스트\n",
    "    train data로 fit 한 후 \n",
    "    train data와 test data에 scaling을 적용(transform)한다.\n",
    "    '''\n",
    "    scaler = MinMaxScaler(feature_range=(0, 1))\n",
    "    \n",
    "    scaler.fit(train_data[scaling_features])\n",
    "    \n",
    "    train_data[scaling_features] = scaler.transform(train_data[scaling_features])\n",
    "    test_data[scaling_features] = scaler.transform(test_data[scaling_features])"
   ]
  },
  {
   "cell_type": "markdown",
   "id": "912d0cc3",
   "metadata": {
    "id": "912d0cc3"
   },
   "source": [
    "# Firm-Specific Variables"
   ]
  },
  {
   "cell_type": "code",
   "execution_count": 3,
   "id": "288c0d7b",
   "metadata": {
    "executionInfo": {
     "elapsed": 1072,
     "status": "ok",
     "timestamp": 1658398728861,
     "user": {
      "displayName": "­박지원(자연과학대학 통계학과)",
      "userId": "00749668697861991358"
     },
     "user_tz": -540
    },
    "id": "288c0d7b"
   },
   "outputs": [],
   "source": [
    "# Inf, -Inf 있는 경우 0으로 대체하는 함수\n",
    "def ind_clean_data(raw_data, scaling_features):\n",
    "    # 원하는 변수들을 float32 type으로 바꾼다 (이 작업 필요 없으면 안 해도 됨)\n",
    "    raw_data[scaling_features] = raw_data[scaling_features].astype('float32')\n",
    "\n",
    "    for col in scaling_features:\n",
    "        # Inf 또는 -Inf가 하나라도 존재하는 경우 그 값은 0으로 대체하기\n",
    "        is_inf = (raw_data[col] == float(\"inf\")) | (raw_data[col] == float(\"-inf\"))\n",
    "        res = sum(is_inf)\n",
    "        if res != 0:\n",
    "            raw_data.loc[is_inf,col] = 0"
   ]
  },
  {
   "cell_type": "code",
   "execution_count": 4,
   "id": "53c6a720",
   "metadata": {
    "executionInfo": {
     "elapsed": 18,
     "status": "ok",
     "timestamp": 1658398730279,
     "user": {
      "displayName": "­박지원(자연과학대학 통계학과)",
      "userId": "00749668697861991358"
     },
     "user_tz": -540
    },
    "id": "53c6a720"
   },
   "outputs": [],
   "source": [
    "# # 연도별로 시총 top 1000에 드는 회사만을 데이터셋에 포함시킨다\n",
    "# def AnnualCap(raw_data, start_year, end_year, num_top=1000):\n",
    "#     raw_data['date'] = pd.to_datetime(raw_data['date'])\n",
    "#     df_top = pd.DataFrame()\n",
    "    \n",
    "#     for year in range(start_year, end_year+1): # 매년\n",
    "#         # 각 연도에 해당하는 데이터만을 추출\n",
    "#         temp = raw_data[raw_data['date'].dt.year == year]\n",
    "        \n",
    "#         # 회사(permno)별로 시가총액(me)의 평균을 구한 후, 시총이 큰 순서대로 내림차순 정렬\n",
    "#         # 내림차순 정렬된 상태에서 상위 num_top개의 회사를 추출하여 리스트로 만들기\n",
    "#         top_list = temp.groupby('permno').mean()[['me']].reset_index().\\\n",
    "#                     sort_values(by='me', ascending=False)[:num_top]['permno'].tolist()\n",
    "#         # temp에서 상위 num_top개의 회사만을 포함하는 데이터를 추출 후 이를 매년 반복한 데이터와 concat\n",
    "#         df_top = pd.concat([df_top, temp[temp['permno'].isin(top_list)]], axis=0)\n",
    "\n",
    "#     return df_top"
   ]
  },
  {
   "cell_type": "code",
   "execution_count": 51,
   "id": "9f9646f9",
   "metadata": {},
   "outputs": [],
   "source": [
    "def AnnualCap(raw_data, start_year, end_year, num_top=100):\n",
    "    df_top = pd.DataFrame()\n",
    "    for year in range(start_year, end_year+1):\n",
    "        raw_temp = raw_data[raw_data['year'] == year]\n",
    "\n",
    "        df_me = raw.groupby(['permno','year']).mean()[['me']].shift(1).bfill().reset_index()\n",
    "        df_me.rename({'me':'me_last_year'}, axis=1, inplace=True)\n",
    "        temp = df_me[df_me['year'] == year]\n",
    "        top_list = temp.sort_values(by='me_last_year', ascending=False)[:num_top]['permno'].tolist()\n",
    "        df_top = pd.concat([df_top, raw_temp[raw_temp['permno'].isin(top_list)]], axis=0)\n",
    "\n",
    "    return df_top"
   ]
  },
  {
   "cell_type": "code",
   "execution_count": 52,
   "id": "395bca20",
   "metadata": {
    "executionInfo": {
     "elapsed": 17563,
     "status": "ok",
     "timestamp": 1658398749851,
     "user": {
      "displayName": "­박지원(자연과학대학 통계학과)",
      "userId": "00749668697861991358"
     },
     "user_tz": -540
    },
    "id": "395bca20"
   },
   "outputs": [],
   "source": [
    "# raw 데이터는 firm-specific 변수들에 대한 전처리가 된 데이터\n",
    "# 이 데이터의 ret값이 타겟변수이고, 한달 후의 ret으로 설정되어있음 (한달 후를 예측하는 것이므로)\n",
    "\n",
    "raw1990 = pd.read_csv('../01_Preprocess/Preprocess-1/data/chars60_raw_1990s.csv')\n",
    "raw2000 = pd.read_csv('../01_Preprocess/Preprocess-1/data/chars60_raw_2000s.csv')\n",
    "raw2010 = pd.read_csv('../01_Preprocess/Preprocess-1/data/chars60_raw_2010s.csv')\n",
    "raw2020 = pd.read_csv('../01_Preprocess/Preprocess-1/data/chars60_raw_2020s.csv')"
   ]
  },
  {
   "cell_type": "code",
   "execution_count": 53,
   "id": "3822db81",
   "metadata": {
    "executionInfo": {
     "elapsed": 9,
     "status": "ok",
     "timestamp": 1658398749852,
     "user": {
      "displayName": "­박지원(자연과학대학 통계학과)",
      "userId": "00749668697861991358"
     },
     "user_tz": -540
    },
    "id": "3822db81"
   },
   "outputs": [],
   "source": [
    "# 모든 연도들의 raw 데이터 합치기\n",
    "raw = pd.concat([raw1990, raw2000, raw2010, raw2020], axis=0)\n",
    "raw['date'] = pd.to_datetime(raw['date'])"
   ]
  },
  {
   "cell_type": "code",
   "execution_count": 54,
   "id": "4cb70dba",
   "metadata": {
    "executionInfo": {
     "elapsed": 2352,
     "status": "ok",
     "timestamp": 1658398752196,
     "user": {
      "displayName": "­박지원(자연과학대학 통계학과)",
      "userId": "00749668697861991358"
     },
     "user_tz": -540
    },
    "id": "4cb70dba"
   },
   "outputs": [],
   "source": [
    "# raw 데이터로부터 매년 시총 top 100에 드는 회사만을 포함하는 데이터셋 구축\n",
    "raw_top = AnnualCap(raw, 1996, 2022, 100)"
   ]
  },
  {
   "cell_type": "code",
   "execution_count": 55,
   "id": "fe6e049a",
   "metadata": {
    "executionInfo": {
     "elapsed": 24,
     "status": "ok",
     "timestamp": 1658398752197,
     "user": {
      "displayName": "­박지원(자연과학대학 통계학과)",
      "userId": "00749668697861991358"
     },
     "user_tz": -540
    },
    "id": "fe6e049a"
   },
   "outputs": [],
   "source": [
    "# train / test split\n",
    "raw_train = raw_top[(raw_top['date'] >= '1996-01-01') & (raw_top['date'] <= '2016-12-31')]\n",
    "raw_test = raw_top[(raw_top['date'] >= '2017-01-01') & (raw_top['date'] <= '2022-12-31')]"
   ]
  },
  {
   "cell_type": "markdown",
   "id": "17f78264",
   "metadata": {
    "id": "17f78264"
   },
   "source": [
    "## Load hidden states data\n",
    "---\n",
    "- 127개의 거시경제 변수들을 LSTM에 통과시킨 후 4개의 hidden states를 추출하여 데이터프레임으로 만들어놨음 (hidden_states_df.csv)\n",
    "- 이 데이터프레임과 기존의 firm-specific 변수들만 있는 raw 데이터를 합쳐야 함\n"
   ]
  },
  {
   "cell_type": "code",
   "execution_count": 56,
   "id": "4bd23454",
   "metadata": {
    "executionInfo": {
     "elapsed": 567,
     "status": "ok",
     "timestamp": 1658398752751,
     "user": {
      "displayName": "­박지원(자연과학대학 통계학과)",
      "userId": "00749668697861991358"
     },
     "user_tz": -540
    },
    "id": "4bd23454"
   },
   "outputs": [],
   "source": [
    "hs_df = pd.read_csv('../01_Preprocess/Preprocess-2/data/hidden_states_df.csv')"
   ]
  },
  {
   "cell_type": "code",
   "execution_count": 57,
   "id": "46664405",
   "metadata": {
    "executionInfo": {
     "elapsed": 9,
     "status": "ok",
     "timestamp": 1658398752752,
     "user": {
      "displayName": "­박지원(자연과학대학 통계학과)",
      "userId": "00749668697861991358"
     },
     "user_tz": -540
    },
    "id": "46664405"
   },
   "outputs": [],
   "source": [
    "hs_df['date'] = pd.to_datetime(hs_df['date'])"
   ]
  },
  {
   "cell_type": "code",
   "execution_count": 58,
   "id": "b6e2d299",
   "metadata": {
    "executionInfo": {
     "elapsed": 8,
     "status": "ok",
     "timestamp": 1658398752752,
     "user": {
      "displayName": "­박지원(자연과학대학 통계학과)",
      "userId": "00749668697861991358"
     },
     "user_tz": -540
    },
    "id": "b6e2d299"
   },
   "outputs": [],
   "source": [
    "# train / test split\n",
    "hs_train = hs_df[(hs_df['date'] >= '1996-01-01') & (hs_df['date'] <= '2016-12-31')]\n",
    "hs_test = hs_df[(hs_df['date'] >= '2017-01-01') & (hs_df['date'] <= '2022-12-31')]"
   ]
  },
  {
   "cell_type": "code",
   "execution_count": 59,
   "id": "370c1393",
   "metadata": {
    "colab": {
     "base_uri": "https://localhost:8080/",
     "height": 0
    },
    "executionInfo": {
     "elapsed": 8,
     "status": "ok",
     "timestamp": 1658398752752,
     "user": {
      "displayName": "­박지원(자연과학대학 통계학과)",
      "userId": "00749668697861991358"
     },
     "user_tz": -540
    },
    "id": "370c1393",
    "outputId": "9f401f73-b2e8-4e5c-d055-8712de4e0851"
   },
   "outputs": [
    {
     "data": {
      "text/html": [
       "<div>\n",
       "<style scoped>\n",
       "    .dataframe tbody tr th:only-of-type {\n",
       "        vertical-align: middle;\n",
       "    }\n",
       "\n",
       "    .dataframe tbody tr th {\n",
       "        vertical-align: top;\n",
       "    }\n",
       "\n",
       "    .dataframe thead th {\n",
       "        text-align: right;\n",
       "    }\n",
       "</style>\n",
       "<table border=\"1\" class=\"dataframe\">\n",
       "  <thead>\n",
       "    <tr style=\"text-align: right;\">\n",
       "      <th></th>\n",
       "      <th>date</th>\n",
       "      <th>hs1</th>\n",
       "      <th>hs2</th>\n",
       "      <th>hs3</th>\n",
       "      <th>hs4</th>\n",
       "    </tr>\n",
       "  </thead>\n",
       "  <tbody>\n",
       "    <tr>\n",
       "      <th>0</th>\n",
       "      <td>1996-01-31</td>\n",
       "      <td>0.022903</td>\n",
       "      <td>-0.143527</td>\n",
       "      <td>-0.075930</td>\n",
       "      <td>0.115051</td>\n",
       "    </tr>\n",
       "    <tr>\n",
       "      <th>1</th>\n",
       "      <td>1996-02-29</td>\n",
       "      <td>-0.084758</td>\n",
       "      <td>-0.191410</td>\n",
       "      <td>-0.100266</td>\n",
       "      <td>0.177098</td>\n",
       "    </tr>\n",
       "    <tr>\n",
       "      <th>2</th>\n",
       "      <td>1996-03-31</td>\n",
       "      <td>-0.074154</td>\n",
       "      <td>-0.174632</td>\n",
       "      <td>-0.104189</td>\n",
       "      <td>0.196434</td>\n",
       "    </tr>\n",
       "  </tbody>\n",
       "</table>\n",
       "</div>"
      ],
      "text/plain": [
       "        date       hs1       hs2       hs3       hs4\n",
       "0 1996-01-31  0.022903 -0.143527 -0.075930  0.115051\n",
       "1 1996-02-29 -0.084758 -0.191410 -0.100266  0.177098\n",
       "2 1996-03-31 -0.074154 -0.174632 -0.104189  0.196434"
      ]
     },
     "metadata": {},
     "output_type": "display_data"
    },
    {
     "data": {
      "text/html": [
       "<div>\n",
       "<style scoped>\n",
       "    .dataframe tbody tr th:only-of-type {\n",
       "        vertical-align: middle;\n",
       "    }\n",
       "\n",
       "    .dataframe tbody tr th {\n",
       "        vertical-align: top;\n",
       "    }\n",
       "\n",
       "    .dataframe thead th {\n",
       "        text-align: right;\n",
       "    }\n",
       "</style>\n",
       "<table border=\"1\" class=\"dataframe\">\n",
       "  <thead>\n",
       "    <tr style=\"text-align: right;\">\n",
       "      <th></th>\n",
       "      <th>date</th>\n",
       "      <th>hs1</th>\n",
       "      <th>hs2</th>\n",
       "      <th>hs3</th>\n",
       "      <th>hs4</th>\n",
       "    </tr>\n",
       "  </thead>\n",
       "  <tbody>\n",
       "    <tr>\n",
       "      <th>313</th>\n",
       "      <td>2022-02-28</td>\n",
       "      <td>-0.064052</td>\n",
       "      <td>-0.107213</td>\n",
       "      <td>-0.121080</td>\n",
       "      <td>0.141095</td>\n",
       "    </tr>\n",
       "    <tr>\n",
       "      <th>314</th>\n",
       "      <td>2022-03-31</td>\n",
       "      <td>-0.021913</td>\n",
       "      <td>-0.104888</td>\n",
       "      <td>-0.178740</td>\n",
       "      <td>0.176583</td>\n",
       "    </tr>\n",
       "    <tr>\n",
       "      <th>315</th>\n",
       "      <td>2022-04-30</td>\n",
       "      <td>0.013325</td>\n",
       "      <td>-0.109220</td>\n",
       "      <td>-0.188333</td>\n",
       "      <td>0.201438</td>\n",
       "    </tr>\n",
       "  </tbody>\n",
       "</table>\n",
       "</div>"
      ],
      "text/plain": [
       "          date       hs1       hs2       hs3       hs4\n",
       "313 2022-02-28 -0.064052 -0.107213 -0.121080  0.141095\n",
       "314 2022-03-31 -0.021913 -0.104888 -0.178740  0.176583\n",
       "315 2022-04-30  0.013325 -0.109220 -0.188333  0.201438"
      ]
     },
     "metadata": {},
     "output_type": "display_data"
    }
   ],
   "source": [
    "# hs1, hs2, hs3, hs4: 4개의 hidden states\n",
    "display(hs_train.head(3))\n",
    "display(hs_test.tail(3))"
   ]
  },
  {
   "cell_type": "code",
   "execution_count": 60,
   "id": "84af96df",
   "metadata": {
    "executionInfo": {
     "elapsed": 6,
     "status": "ok",
     "timestamp": 1658398752752,
     "user": {
      "displayName": "­박지원(자연과학대학 통계학과)",
      "userId": "00749668697861991358"
     },
     "user_tz": -540
    },
    "id": "84af96df"
   },
   "outputs": [],
   "source": [
    "# 날짜를 기준으로 raw 데이터와 hidden states 데이터 합치기\n",
    "# 둘 다 월별 데이터이므로 날짜에 주의 (두 데이터 모두 매월 말일로 설정되어있는지 확인하기)\n",
    "# 날짜가 다르다면 year, month 변수를 따로 만들어서 on=['year', 'month']로 조인해야 함\n",
    "\n",
    "train_ind_mac = pd.merge(raw_train, hs_train, on='date', how='left')\n",
    "test_ind_mac = pd.merge(raw_test, hs_test, on='date', how='left')"
   ]
  },
  {
   "cell_type": "code",
   "execution_count": 61,
   "id": "BIdW0srX3oNb",
   "metadata": {
    "colab": {
     "base_uri": "https://localhost:8080/",
     "height": 0
    },
    "executionInfo": {
     "elapsed": 408,
     "status": "ok",
     "timestamp": 1658398753154,
     "user": {
      "displayName": "­박지원(자연과학대학 통계학과)",
      "userId": "00749668697861991358"
     },
     "user_tz": -540
    },
    "id": "BIdW0srX3oNb",
    "outputId": "3c4f1466-647e-45f2-dd8a-ba47ec83ac48"
   },
   "outputs": [
    {
     "data": {
      "text/html": [
       "<div>\n",
       "<style scoped>\n",
       "    .dataframe tbody tr th:only-of-type {\n",
       "        vertical-align: middle;\n",
       "    }\n",
       "\n",
       "    .dataframe tbody tr th {\n",
       "        vertical-align: top;\n",
       "    }\n",
       "\n",
       "    .dataframe thead th {\n",
       "        text-align: right;\n",
       "    }\n",
       "</style>\n",
       "<table border=\"1\" class=\"dataframe\">\n",
       "  <thead>\n",
       "    <tr style=\"text-align: right;\">\n",
       "      <th></th>\n",
       "      <th>ticker</th>\n",
       "      <th>gvkey</th>\n",
       "      <th>permno</th>\n",
       "      <th>sic</th>\n",
       "      <th>ret</th>\n",
       "      <th>exchcd</th>\n",
       "      <th>shrcd</th>\n",
       "      <th>adm</th>\n",
       "      <th>bm_ia</th>\n",
       "      <th>herf</th>\n",
       "      <th>...</th>\n",
       "      <th>rsup</th>\n",
       "      <th>sgr</th>\n",
       "      <th>sp</th>\n",
       "      <th>date</th>\n",
       "      <th>ffi49</th>\n",
       "      <th>year</th>\n",
       "      <th>hs1</th>\n",
       "      <th>hs2</th>\n",
       "      <th>hs3</th>\n",
       "      <th>hs4</th>\n",
       "    </tr>\n",
       "  </thead>\n",
       "  <tbody>\n",
       "    <tr>\n",
       "      <th>0</th>\n",
       "      <td>ABS</td>\n",
       "      <td>1240</td>\n",
       "      <td>50032</td>\n",
       "      <td>5411</td>\n",
       "      <td>0.037618</td>\n",
       "      <td>1.0</td>\n",
       "      <td>11.0</td>\n",
       "      <td>0.000063</td>\n",
       "      <td>0.163795</td>\n",
       "      <td>0.102612</td>\n",
       "      <td>...</td>\n",
       "      <td>-0.000338</td>\n",
       "      <td>-0.020226</td>\n",
       "      <td>0.001253</td>\n",
       "      <td>1996-06-30</td>\n",
       "      <td>43</td>\n",
       "      <td>1996</td>\n",
       "      <td>-0.029664</td>\n",
       "      <td>-0.414425</td>\n",
       "      <td>-0.458792</td>\n",
       "      <td>0.224881</td>\n",
       "    </tr>\n",
       "    <tr>\n",
       "      <th>1</th>\n",
       "      <td>ABS</td>\n",
       "      <td>1240</td>\n",
       "      <td>50032</td>\n",
       "      <td>5411</td>\n",
       "      <td>-0.005438</td>\n",
       "      <td>1.0</td>\n",
       "      <td>11.0</td>\n",
       "      <td>0.000064</td>\n",
       "      <td>0.157838</td>\n",
       "      <td>0.102612</td>\n",
       "      <td>...</td>\n",
       "      <td>0.000557</td>\n",
       "      <td>0.302662</td>\n",
       "      <td>0.001207</td>\n",
       "      <td>1996-07-31</td>\n",
       "      <td>43</td>\n",
       "      <td>1996</td>\n",
       "      <td>-0.030297</td>\n",
       "      <td>-0.260970</td>\n",
       "      <td>-0.374075</td>\n",
       "      <td>0.187817</td>\n",
       "    </tr>\n",
       "    <tr>\n",
       "      <th>2</th>\n",
       "      <td>ABS</td>\n",
       "      <td>1240</td>\n",
       "      <td>50032</td>\n",
       "      <td>5411</td>\n",
       "      <td>0.033537</td>\n",
       "      <td>1.0</td>\n",
       "      <td>11.0</td>\n",
       "      <td>0.000084</td>\n",
       "      <td>0.159282</td>\n",
       "      <td>0.102612</td>\n",
       "      <td>...</td>\n",
       "      <td>0.000105</td>\n",
       "      <td>0.362695</td>\n",
       "      <td>0.001218</td>\n",
       "      <td>1996-08-31</td>\n",
       "      <td>43</td>\n",
       "      <td>1996</td>\n",
       "      <td>-0.163543</td>\n",
       "      <td>-0.468305</td>\n",
       "      <td>-0.555463</td>\n",
       "      <td>0.109156</td>\n",
       "    </tr>\n",
       "  </tbody>\n",
       "</table>\n",
       "<p>3 rows × 65 columns</p>\n",
       "</div>"
      ],
      "text/plain": [
       "  ticker  gvkey  permno   sic       ret  exchcd  shrcd       adm     bm_ia  \\\n",
       "0    ABS   1240   50032  5411  0.037618     1.0   11.0  0.000063  0.163795   \n",
       "1    ABS   1240   50032  5411 -0.005438     1.0   11.0  0.000064  0.157838   \n",
       "2    ABS   1240   50032  5411  0.033537     1.0   11.0  0.000084  0.159282   \n",
       "\n",
       "       herf  ...      rsup       sgr        sp       date  ffi49  year  \\\n",
       "0  0.102612  ... -0.000338 -0.020226  0.001253 1996-06-30     43  1996   \n",
       "1  0.102612  ...  0.000557  0.302662  0.001207 1996-07-31     43  1996   \n",
       "2  0.102612  ...  0.000105  0.362695  0.001218 1996-08-31     43  1996   \n",
       "\n",
       "        hs1       hs2       hs3       hs4  \n",
       "0 -0.029664 -0.414425 -0.458792  0.224881  \n",
       "1 -0.030297 -0.260970 -0.374075  0.187817  \n",
       "2 -0.163543 -0.468305 -0.555463  0.109156  \n",
       "\n",
       "[3 rows x 65 columns]"
      ]
     },
     "execution_count": 61,
     "metadata": {},
     "output_type": "execute_result"
    }
   ],
   "source": [
    "train_ind_mac.head(3)"
   ]
  },
  {
   "cell_type": "markdown",
   "id": "a68b4d6e",
   "metadata": {
    "id": "a68b4d6e"
   },
   "source": [
    "# Model\n",
    "---\n",
    "- 머신러닝 모델들 중 부스팅 모델 몇개를 사용 (Catboost, XGBoost, LightGBM 등)\n",
    "- Catboost를 사용하는 경우 범주형 변수를 따로 설정해줘야 함 (cat_features = ['exchcd','shrcd','ffi49'])\n",
    "- 범주형 변수들에 대해 좀 더 피처 엔지니어링 할 필요 있음 (일단은 아무 처리도 하지 않고 그냥 넣음)"
   ]
  },
  {
   "cell_type": "markdown",
   "id": "99e48cca",
   "metadata": {
    "id": "99e48cca"
   },
   "source": [
    "- 논문에서는 train data의 window size를 늘려가며 recursive 하게 validation 함 (cross validation과 다름)\n",
    "- 시간 순서를 고려하기 위함임\n",
    "- 예를 들면 다음과 같다. \n",
    " - 1996-2011 데이터로 학습 -> 2012 데이터로 validation => R-Squared 구함: R-Squared_1\n",
    " - 1996-2012 데이터로 학습 -> 2013 데이터로 validation => R-Squared 구함: R-Squared_2\n",
    " - 1996-2013 데이터로 학습 -> 2014 데이터로 validation => R-Squared 구함: R-Squared_3\n",
    "  - => 그러면 validation R-Squared = (R-Squared_1 + R-Squared_2 + R-Squared_3) / 3\n",
    "- 이런식으로 validation 하는 경우, 1996-2011 을 train set, 2012-2014를 validation set이라고 함.\n",
    "- 이걸 하게 해주는 함수들을 짜서 refit_model 모듈로 만들어놓음"
   ]
  },
  {
   "cell_type": "code",
   "execution_count": 62,
   "id": "d343438f",
   "metadata": {
    "executionInfo": {
     "elapsed": 427,
     "status": "ok",
     "timestamp": 1658398753574,
     "user": {
      "displayName": "­박지원(자연과학대학 통계학과)",
      "userId": "00749668697861991358"
     },
     "user_tz": -540
    },
    "id": "d343438f"
   },
   "outputs": [],
   "source": [
    "from refit_model import *"
   ]
  },
  {
   "cell_type": "code",
   "execution_count": 63,
   "id": "47a98b60",
   "metadata": {
    "executionInfo": {
     "elapsed": 11,
     "status": "ok",
     "timestamp": 1658398753575,
     "user": {
      "displayName": "­박지원(자연과학대학 통계학과)",
      "userId": "00749668697861991358"
     },
     "user_tz": -540
    },
    "id": "47a98b60"
   },
   "outputs": [],
   "source": [
    "train = train_ind_mac.copy()\n",
    "test = test_ind_mac.copy()"
   ]
  },
  {
   "cell_type": "code",
   "execution_count": 64,
   "id": "07a053dc",
   "metadata": {
    "executionInfo": {
     "elapsed": 10,
     "status": "ok",
     "timestamp": 1658398753575,
     "user": {
      "displayName": "­박지원(자연과학대학 통계학과)",
      "userId": "00749668697861991358"
     },
     "user_tz": -540
    },
    "id": "07a053dc"
   },
   "outputs": [],
   "source": [
    "df = pd.concat([train, test], axis=0)"
   ]
  },
  {
   "cell_type": "code",
   "execution_count": 65,
   "id": "CPGd1Ci4RqlX",
   "metadata": {
    "colab": {
     "base_uri": "https://localhost:8080/"
    },
    "executionInfo": {
     "elapsed": 10,
     "status": "ok",
     "timestamp": 1658398753575,
     "user": {
      "displayName": "­박지원(자연과학대학 통계학과)",
      "userId": "00749668697861991358"
     },
     "user_tz": -540
    },
    "id": "CPGd1Ci4RqlX",
    "outputId": "72d3146c-27d3-44b0-bb48-785ed0ed56ee"
   },
   "outputs": [
    {
     "name": "stdout",
     "output_type": "stream",
     "text": [
      "['exchcd', 'shrcd', 'adm', 'bm_ia', 'herf', 'hire', 'me_ia', 'ill', 'maxret', 'mom12m', 'mom1m', 'mom36m', 'mom60m', 'mom6m', 'std_dolvol', 'std_turn', 'me', 'dy', 'turn', 'dolvol', 'cinvest', 'nincr', 'pscore', 'acc', 'bm', 'agr', 'alm', 'ato', 'cash', 'cashdebt', 'cfp', 'chcsho', 'chpm', 'chtx', 'depr', 'ep', 'gma', 'grltnoa', 'lev', 'lgr', 'ni', 'noa', 'op', 'pctacc', 'pm', 'rd_sale', 'rdm', 'rna', 'roa', 'roe', 'rsup', 'sgr', 'sp', 'ffi49', 'year', 'hs1', 'hs2', 'hs3', 'hs4']\n"
     ]
    }
   ],
   "source": [
    "features = train.columns.drop(['date','gvkey','permno','ret','ticker','sic']).tolist()\n",
    "print(features)"
   ]
  },
  {
   "cell_type": "code",
   "execution_count": 66,
   "id": "869d4faf",
   "metadata": {
    "id": "869d4faf"
   },
   "outputs": [],
   "source": [
    "# r2 = refit_catboost(df, features, train_start=1996, train_end=2011, valid_size=5)\n",
    "# print('Average r2 = ', r2)"
   ]
  },
  {
   "cell_type": "code",
   "execution_count": 67,
   "id": "2a1c23b9",
   "metadata": {
    "id": "2a1c23b9"
   },
   "outputs": [],
   "source": [
    "# test_r2 = refit_catboost(df, features, train_start=1996, train_end=2016, valid_size=5)\n",
    "# print('Average r2 = ', test_r2)"
   ]
  },
  {
   "cell_type": "markdown",
   "id": "gbG6PISx6fNf",
   "metadata": {
    "id": "gbG6PISx6fNf"
   },
   "source": [
    "# Save Model\n",
    "---\n",
    "- 2016까지 학습한 모델: model2_2016 ==> 2017년 test\n",
    "- 2017까지 학습한 모델: model2_2017 ==> 2018년 test\n",
    "- 2018까지 학습한 모델: model2_2018 ==> 2019년 test\n",
    "- 2019까지 학습한 모델: model2_2019 ==> 2020년 test\n",
    "- 2020까지 학습한 모델: model2_2020 ==> 2021년 test\n"
   ]
  },
  {
   "cell_type": "code",
   "execution_count": 68,
   "id": "24u7qubt31pF",
   "metadata": {
    "executionInfo": {
     "elapsed": 543,
     "status": "ok",
     "timestamp": 1658398773568,
     "user": {
      "displayName": "­박지원(자연과학대학 통계학과)",
      "userId": "00749668697861991358"
     },
     "user_tz": -540
    },
    "id": "24u7qubt31pF"
   },
   "outputs": [],
   "source": [
    "import pickle\n",
    "import catboost\n",
    "import os"
   ]
  },
  {
   "cell_type": "code",
   "execution_count": 77,
   "id": "ed828777",
   "metadata": {},
   "outputs": [],
   "source": [
    "def save_catboost(df, features, train_start=1996, train_end=2016, valid_size=5):\n",
    "    cat_features = ['exchcd','shrcd','ffi49']\n",
    "    r2_list = []\n",
    "    for i in range(valid_size):\n",
    "        start_year = train_start\n",
    "        end_year = train_end + i\n",
    "        train = df[(df['year']<=end_year)&(df['year']>=start_year)] ; print('train: ', start_year, end_year)\n",
    "        valid = df[df['year']==end_year+1] ; print('valid: ', end_year+1)\n",
    "        \n",
    "\n",
    "        X_train, y_train = train[features], np.array(train['ret']) ; print('shape: ', X_train.shape)\n",
    "        X_valid, y_valid = valid[features], np.array(valid['ret']) ; print('shape: ', X_valid.shape)\n",
    "\n",
    "        #     cat_features : LabelEncoder\n",
    "        for data in [X_train, X_valid]:\n",
    "            data[cat_features] = data[cat_features].astype(str)\n",
    "\n",
    "        # Set up \n",
    "        cat_params = {\n",
    "                      'random_state':42,\n",
    "                      'learning_rate': 1e-4, \n",
    "                      'n_estimators': 1000\n",
    "                     }\n",
    "        \n",
    "        cat_model = CatBoostRegressor(**cat_params)        \n",
    "        fit_model = cat_model.fit(X_train, y_train,\n",
    "                    early_stopping_rounds=35,\n",
    "                    cat_features=cat_features,\n",
    "                    verbose=100,                    \n",
    "                        )\n",
    "\n",
    "        # save model\n",
    "        save_path = './saved_model/'\n",
    "        if not os.path.exists(save_path):\n",
    "            os.mkdir(save_path)\n",
    "        \n",
    "        filename = f'model2_{end_year}.sav' ; print(filename)\n",
    "        pickle.dump(fit_model, open(save_path + filename, 'wb'))\n",
    "        \n",
    "        cat_pred = fit_model.predict(X_valid)\n",
    "        r2 = r2_oos(y_valid, cat_pred) ; print(r2)\n",
    "        r2_list.append(r2)\n",
    "    print(r2_list)"
   ]
  },
  {
   "cell_type": "code",
   "execution_count": 78,
   "id": "IW4wUplGRsmg",
   "metadata": {
    "colab": {
     "base_uri": "https://localhost:8080/"
    },
    "executionInfo": {
     "elapsed": 174611,
     "status": "ok",
     "timestamp": 1658382636549,
     "user": {
      "displayName": "­박지원(자연과학대학 통계학과)",
      "userId": "00749668697861991358"
     },
     "user_tz": -540
    },
    "id": "IW4wUplGRsmg",
    "outputId": "ce933457-ad27-47b3-d6c0-694edb107202",
    "scrolled": true
   },
   "outputs": [
    {
     "name": "stdout",
     "output_type": "stream",
     "text": [
      "train:  1996 2016\n",
      "valid:  2017\n",
      "shape:  (23309, 59)\n",
      "shape:  (1182, 59)\n",
      "0:\tlearn: 0.1064826\ttotal: 20.8ms\tremaining: 20.8s\n"
     ]
    },
    {
     "name": "stderr",
     "output_type": "stream",
     "text": [
      "/opt/anaconda3/lib/python3.9/site-packages/pandas/core/frame.py:3641: SettingWithCopyWarning: \n",
      "A value is trying to be set on a copy of a slice from a DataFrame.\n",
      "Try using .loc[row_indexer,col_indexer] = value instead\n",
      "\n",
      "See the caveats in the documentation: https://pandas.pydata.org/pandas-docs/stable/user_guide/indexing.html#returning-a-view-versus-a-copy\n",
      "  self[k1] = value[k2]\n"
     ]
    },
    {
     "name": "stdout",
     "output_type": "stream",
     "text": [
      "100:\tlearn: 0.1064393\ttotal: 791ms\tremaining: 7.04s\n",
      "200:\tlearn: 0.1063972\ttotal: 1.57s\tremaining: 6.26s\n",
      "300:\tlearn: 0.1063535\ttotal: 2.31s\tremaining: 5.37s\n",
      "400:\tlearn: 0.1063118\ttotal: 3.05s\tremaining: 4.55s\n",
      "500:\tlearn: 0.1062718\ttotal: 3.79s\tremaining: 3.77s\n",
      "600:\tlearn: 0.1062318\ttotal: 4.52s\tremaining: 3s\n",
      "700:\tlearn: 0.1061906\ttotal: 5.26s\tremaining: 2.24s\n",
      "800:\tlearn: 0.1061498\ttotal: 6s\tremaining: 1.49s\n",
      "900:\tlearn: 0.1061084\ttotal: 6.75s\tremaining: 742ms\n",
      "999:\tlearn: 0.1060675\ttotal: 7.51s\tremaining: 0us\n",
      "model2_2016.sav\n",
      "0.0708\n",
      "train:  1996 2017\n",
      "valid:  2018\n",
      "shape:  (24491, 59)\n",
      "shape:  (1177, 59)\n",
      "0:\tlearn: 0.1044856\ttotal: 7.94ms\tremaining: 7.94s\n",
      "100:\tlearn: 0.1044449\ttotal: 809ms\tremaining: 7.2s\n",
      "200:\tlearn: 0.1044050\ttotal: 1.58s\tremaining: 6.28s\n",
      "300:\tlearn: 0.1043662\ttotal: 2.35s\tremaining: 5.45s\n",
      "400:\tlearn: 0.1043284\ttotal: 3.1s\tremaining: 4.62s\n",
      "500:\tlearn: 0.1042901\ttotal: 3.87s\tremaining: 3.85s\n",
      "600:\tlearn: 0.1042509\ttotal: 4.65s\tremaining: 3.08s\n",
      "700:\tlearn: 0.1042130\ttotal: 5.4s\tremaining: 2.3s\n",
      "800:\tlearn: 0.1041730\ttotal: 6.17s\tremaining: 1.53s\n",
      "900:\tlearn: 0.1041343\ttotal: 6.93s\tremaining: 762ms\n",
      "999:\tlearn: 0.1040966\ttotal: 7.68s\tremaining: 0us\n",
      "model2_2017.sav\n",
      "-0.0214\n",
      "train:  1996 2018\n",
      "valid:  2019\n",
      "shape:  (25668, 59)\n",
      "shape:  (1182, 59)\n",
      "0:\tlearn: 0.1033622\ttotal: 7.43ms\tremaining: 7.42s\n",
      "100:\tlearn: 0.1033252\ttotal: 814ms\tremaining: 7.25s\n",
      "200:\tlearn: 0.1032867\ttotal: 1.59s\tremaining: 6.34s\n",
      "300:\tlearn: 0.1032498\ttotal: 2.38s\tremaining: 5.54s\n",
      "400:\tlearn: 0.1032137\ttotal: 3.14s\tremaining: 4.69s\n",
      "500:\tlearn: 0.1031768\ttotal: 3.9s\tremaining: 3.89s\n",
      "600:\tlearn: 0.1031394\ttotal: 4.66s\tremaining: 3.09s\n",
      "700:\tlearn: 0.1031034\ttotal: 5.43s\tremaining: 2.31s\n",
      "800:\tlearn: 0.1030668\ttotal: 6.2s\tremaining: 1.54s\n",
      "900:\tlearn: 0.1030288\ttotal: 6.98s\tremaining: 767ms\n",
      "999:\tlearn: 0.1029906\ttotal: 7.74s\tremaining: 0us\n",
      "model2_2018.sav\n",
      "0.0236\n",
      "train:  1996 2019\n",
      "valid:  2020\n",
      "shape:  (26850, 59)\n",
      "shape:  (1189, 59)\n",
      "0:\tlearn: 0.1037811\ttotal: 7.88ms\tremaining: 7.87s\n",
      "100:\tlearn: 0.1037429\ttotal: 792ms\tremaining: 7.05s\n",
      "200:\tlearn: 0.1037033\ttotal: 1.58s\tremaining: 6.28s\n",
      "300:\tlearn: 0.1036650\ttotal: 2.37s\tremaining: 5.5s\n",
      "400:\tlearn: 0.1036260\ttotal: 3.15s\tremaining: 4.7s\n",
      "500:\tlearn: 0.1035887\ttotal: 3.93s\tremaining: 3.92s\n",
      "600:\tlearn: 0.1035495\ttotal: 4.71s\tremaining: 3.13s\n",
      "700:\tlearn: 0.1035118\ttotal: 5.49s\tremaining: 2.34s\n",
      "800:\tlearn: 0.1034727\ttotal: 6.27s\tremaining: 1.56s\n",
      "900:\tlearn: 0.1034344\ttotal: 7.09s\tremaining: 779ms\n",
      "999:\tlearn: 0.1033969\ttotal: 7.91s\tremaining: 0us\n",
      "model2_2019.sav\n",
      "0.0193\n",
      "train:  1996 2020\n",
      "valid:  2021\n",
      "shape:  (28039, 59)\n",
      "shape:  (1176, 59)\n",
      "0:\tlearn: 0.1036462\ttotal: 9.71ms\tremaining: 9.7s\n",
      "100:\tlearn: 0.1036058\ttotal: 830ms\tremaining: 7.39s\n",
      "200:\tlearn: 0.1035655\ttotal: 1.66s\tremaining: 6.58s\n",
      "300:\tlearn: 0.1035281\ttotal: 2.47s\tremaining: 5.74s\n",
      "400:\tlearn: 0.1034908\ttotal: 3.29s\tremaining: 4.91s\n",
      "500:\tlearn: 0.1034485\ttotal: 4.13s\tremaining: 4.11s\n",
      "600:\tlearn: 0.1034079\ttotal: 4.93s\tremaining: 3.27s\n",
      "700:\tlearn: 0.1033690\ttotal: 5.72s\tremaining: 2.44s\n",
      "800:\tlearn: 0.1033304\ttotal: 6.53s\tremaining: 1.62s\n",
      "900:\tlearn: 0.1032919\ttotal: 7.34s\tremaining: 806ms\n",
      "999:\tlearn: 0.1032542\ttotal: 8.14s\tremaining: 0us\n",
      "model2_2020.sav\n",
      "0.0398\n",
      "train:  1996 2021\n",
      "valid:  2022\n",
      "shape:  (29215, 59)\n",
      "shape:  (300, 59)\n",
      "0:\tlearn: 0.1026785\ttotal: 8.79ms\tremaining: 8.78s\n",
      "100:\tlearn: 0.1026404\ttotal: 822ms\tremaining: 7.32s\n",
      "200:\tlearn: 0.1026022\ttotal: 1.63s\tremaining: 6.48s\n",
      "300:\tlearn: 0.1025653\ttotal: 2.44s\tremaining: 5.68s\n",
      "400:\tlearn: 0.1025290\ttotal: 3.27s\tremaining: 4.89s\n",
      "500:\tlearn: 0.1024937\ttotal: 4.08s\tremaining: 4.07s\n",
      "600:\tlearn: 0.1024560\ttotal: 4.91s\tremaining: 3.26s\n",
      "700:\tlearn: 0.1024191\ttotal: 5.71s\tremaining: 2.44s\n",
      "800:\tlearn: 0.1023839\ttotal: 6.53s\tremaining: 1.62s\n",
      "900:\tlearn: 0.1023452\ttotal: 7.56s\tremaining: 830ms\n",
      "999:\tlearn: 0.1023093\ttotal: 8.44s\tremaining: 0us\n",
      "model2_2021.sav\n",
      "-0.0525\n",
      "[0.0708, -0.0214, 0.0236, 0.0193, 0.0398, -0.0525]\n"
     ]
    }
   ],
   "source": [
    "save_catboost(df, features, train_start=1996, train_end=2016, valid_size=6)"
   ]
  },
  {
   "cell_type": "code",
   "execution_count": 71,
   "id": "kWYmy8gwVL08",
   "metadata": {
    "executionInfo": {
     "elapsed": 13,
     "status": "ok",
     "timestamp": 1658399493936,
     "user": {
      "displayName": "­박지원(자연과학대학 통계학과)",
      "userId": "00749668697861991358"
     },
     "user_tz": -540
    },
    "id": "kWYmy8gwVL08"
   },
   "outputs": [],
   "source": [
    "def load_catboost(df, features, train_start=1996, train_end=2016, valid_size=5):\n",
    "    df_top10 = pd.DataFrame()\n",
    "    cat_features = ['exchcd','shrcd','ffi49']\n",
    "\n",
    "    for i in range(valid_size):\n",
    "        end_year = train_end + i\n",
    "        valid = df[df['year']==end_year+1]\n",
    "        X_valid, y_valid = valid[features], np.array(valid['ret'])\n",
    "        df_temp = valid.copy()\n",
    "\n",
    "        for data in [X_valid]:\n",
    "            data[cat_features] = data[cat_features].astype(str)\n",
    "\n",
    "        # Load Saved Model \n",
    "        path = './saved_model/'\n",
    "        filename = f'model2_{end_year}.sav' ; print(filename)\n",
    "        model = pickle.load(open(path + filename, 'rb'))\n",
    "\n",
    "        # prediction\n",
    "        y_pred = model.predict(X_valid)\n",
    "        df_temp['ret_pred'] = y_pred\n",
    "        df_temp = df_temp[['date','year','permno','ticker','me','ret','ret_pred']]\n",
    "        df_me = df_temp.groupby(['permno','year']).mean()[['me']].shift(1).bfill().reset_index()\n",
    "        df_me.rename({'me':'me_last_year'}, axis=1, inplace=True)\n",
    "        \n",
    "        df_temp = pd.merge(df_temp, df_me, on=['permno','year'], how='left')\n",
    "\n",
    "        df_temp = df_temp.sort_values(by=['date','ret_pred'], ascending=[True, False]) # 날짜 오름차순, return 내림차순 정렬\n",
    "        df_temp = df_temp.groupby(['date']).head(10) # Return Top 10 for each month\n",
    "        \n",
    "        df_top10 = pd.concat([df_top10, df_temp], axis=0)\n",
    "        df_top10.drop(['me'], axis=1, inplace=True)\n",
    "    return df_top10\n",
    "    # return df_temp\n"
   ]
  },
  {
   "cell_type": "code",
   "execution_count": 79,
   "id": "WUItcj-DWSm6",
   "metadata": {
    "colab": {
     "base_uri": "https://localhost:8080/"
    },
    "executionInfo": {
     "elapsed": 7,
     "status": "ok",
     "timestamp": 1658399495676,
     "user": {
      "displayName": "­박지원(자연과학대학 통계학과)",
      "userId": "00749668697861991358"
     },
     "user_tz": -540
    },
    "id": "WUItcj-DWSm6",
    "outputId": "9fb16b67-b50c-432c-d254-6b29bd3592af"
   },
   "outputs": [
    {
     "name": "stdout",
     "output_type": "stream",
     "text": [
      "model2_2016.sav\n",
      "model2_2017.sav\n",
      "model2_2018.sav\n",
      "model2_2019.sav\n",
      "model2_2020.sav\n",
      "model2_2021.sav\n"
     ]
    }
   ],
   "source": [
    "df_top10 = load_catboost(df, features, train_start=1996, train_end=2016, valid_size=6)"
   ]
  },
  {
   "cell_type": "code",
   "execution_count": 80,
   "id": "0427ff9c",
   "metadata": {},
   "outputs": [
    {
     "data": {
      "text/html": [
       "<div>\n",
       "<style scoped>\n",
       "    .dataframe tbody tr th:only-of-type {\n",
       "        vertical-align: middle;\n",
       "    }\n",
       "\n",
       "    .dataframe tbody tr th {\n",
       "        vertical-align: top;\n",
       "    }\n",
       "\n",
       "    .dataframe thead th {\n",
       "        text-align: right;\n",
       "    }\n",
       "</style>\n",
       "<table border=\"1\" class=\"dataframe\">\n",
       "  <thead>\n",
       "    <tr style=\"text-align: right;\">\n",
       "      <th></th>\n",
       "      <th>date</th>\n",
       "      <th>year</th>\n",
       "      <th>permno</th>\n",
       "      <th>ticker</th>\n",
       "      <th>ret</th>\n",
       "      <th>ret_pred</th>\n",
       "      <th>me_last_year</th>\n",
       "    </tr>\n",
       "  </thead>\n",
       "  <tbody>\n",
       "    <tr>\n",
       "      <th>188</th>\n",
       "      <td>2017-01-31</td>\n",
       "      <td>2017</td>\n",
       "      <td>83443</td>\n",
       "      <td>BRK</td>\n",
       "      <td>0.007117</td>\n",
       "      <td>0.007911</td>\n",
       "      <td>7.573290e+07</td>\n",
       "    </tr>\n",
       "    <tr>\n",
       "      <th>484</th>\n",
       "      <td>2017-01-31</td>\n",
       "      <td>2017</td>\n",
       "      <td>12369</td>\n",
       "      <td>GM</td>\n",
       "      <td>0.050804</td>\n",
       "      <td>0.007909</td>\n",
       "      <td>9.011816e+07</td>\n",
       "    </tr>\n",
       "    <tr>\n",
       "      <th>1026</th>\n",
       "      <td>2017-01-31</td>\n",
       "      <td>2017</td>\n",
       "      <td>77418</td>\n",
       "      <td>TWX</td>\n",
       "      <td>0.003315</td>\n",
       "      <td>0.007902</td>\n",
       "      <td>9.555091e+07</td>\n",
       "    </tr>\n",
       "    <tr>\n",
       "      <th>888</th>\n",
       "      <td>2017-01-31</td>\n",
       "      <td>2017</td>\n",
       "      <td>18163</td>\n",
       "      <td>PG</td>\n",
       "      <td>0.049828</td>\n",
       "      <td>0.007901</td>\n",
       "      <td>9.393792e+07</td>\n",
       "    </tr>\n",
       "    <tr>\n",
       "      <th>852</th>\n",
       "      <td>2017-01-31</td>\n",
       "      <td>2017</td>\n",
       "      <td>86783</td>\n",
       "      <td>PCLN</td>\n",
       "      <td>0.074397</td>\n",
       "      <td>0.007898</td>\n",
       "      <td>5.496533e+07</td>\n",
       "    </tr>\n",
       "    <tr>\n",
       "      <th>...</th>\n",
       "      <td>...</td>\n",
       "      <td>...</td>\n",
       "      <td>...</td>\n",
       "      <td>...</td>\n",
       "      <td>...</td>\n",
       "      <td>...</td>\n",
       "      <td>...</td>\n",
       "    </tr>\n",
       "    <tr>\n",
       "      <th>113</th>\n",
       "      <td>2022-03-31</td>\n",
       "      <td>2022</td>\n",
       "      <td>66181</td>\n",
       "      <td>HD</td>\n",
       "      <td>-0.046227</td>\n",
       "      <td>0.009138</td>\n",
       "      <td>8.451418e+07</td>\n",
       "    </tr>\n",
       "    <tr>\n",
       "      <th>173</th>\n",
       "      <td>2022-03-31</td>\n",
       "      <td>2022</td>\n",
       "      <td>22752</td>\n",
       "      <td>MRK</td>\n",
       "      <td>0.080439</td>\n",
       "      <td>0.009127</td>\n",
       "      <td>9.410076e+07</td>\n",
       "    </tr>\n",
       "    <tr>\n",
       "      <th>212</th>\n",
       "      <td>2022-03-31</td>\n",
       "      <td>2022</td>\n",
       "      <td>18163</td>\n",
       "      <td>PG</td>\n",
       "      <td>-0.019822</td>\n",
       "      <td>0.009123</td>\n",
       "      <td>1.390232e+08</td>\n",
       "    </tr>\n",
       "    <tr>\n",
       "      <th>194</th>\n",
       "      <td>2022-03-31</td>\n",
       "      <td>2022</td>\n",
       "      <td>57665</td>\n",
       "      <td>NKE</td>\n",
       "      <td>-0.012340</td>\n",
       "      <td>0.009122</td>\n",
       "      <td>3.880286e+08</td>\n",
       "    </tr>\n",
       "    <tr>\n",
       "      <th>104</th>\n",
       "      <td>2022-03-31</td>\n",
       "      <td>2022</td>\n",
       "      <td>77274</td>\n",
       "      <td>GILD</td>\n",
       "      <td>-0.003642</td>\n",
       "      <td>0.009119</td>\n",
       "      <td>1.992143e+08</td>\n",
       "    </tr>\n",
       "  </tbody>\n",
       "</table>\n",
       "<p>630 rows × 7 columns</p>\n",
       "</div>"
      ],
      "text/plain": [
       "           date  year  permno ticker       ret  ret_pred  me_last_year\n",
       "188  2017-01-31  2017   83443    BRK  0.007117  0.007911  7.573290e+07\n",
       "484  2017-01-31  2017   12369     GM  0.050804  0.007909  9.011816e+07\n",
       "1026 2017-01-31  2017   77418    TWX  0.003315  0.007902  9.555091e+07\n",
       "888  2017-01-31  2017   18163     PG  0.049828  0.007901  9.393792e+07\n",
       "852  2017-01-31  2017   86783   PCLN  0.074397  0.007898  5.496533e+07\n",
       "...         ...   ...     ...    ...       ...       ...           ...\n",
       "113  2022-03-31  2022   66181     HD -0.046227  0.009138  8.451418e+07\n",
       "173  2022-03-31  2022   22752    MRK  0.080439  0.009127  9.410076e+07\n",
       "212  2022-03-31  2022   18163     PG -0.019822  0.009123  1.390232e+08\n",
       "194  2022-03-31  2022   57665    NKE -0.012340  0.009122  3.880286e+08\n",
       "104  2022-03-31  2022   77274   GILD -0.003642  0.009119  1.992143e+08\n",
       "\n",
       "[630 rows x 7 columns]"
      ]
     },
     "execution_count": 80,
     "metadata": {},
     "output_type": "execute_result"
    }
   ],
   "source": [
    "df_top10"
   ]
  },
  {
   "cell_type": "code",
   "execution_count": 81,
   "id": "8sfRRPFKRTst",
   "metadata": {
    "executionInfo": {
     "elapsed": 416,
     "status": "ok",
     "timestamp": 1658399516093,
     "user": {
      "displayName": "­박지원(자연과학대학 통계학과)",
      "userId": "00749668697861991358"
     },
     "user_tz": -540
    },
    "id": "8sfRRPFKRTst"
   },
   "outputs": [],
   "source": [
    "df_top10.to_csv('../03_Strategy/data/df_top10.csv', index=False)"
   ]
  },
  {
   "cell_type": "code",
   "execution_count": null,
   "id": "861ad2ed",
   "metadata": {},
   "outputs": [],
   "source": []
  }
 ],
 "metadata": {
  "colab": {
   "collapsed_sections": [
    "y_E7cAqb3bOc"
   ],
   "name": "[Model 2-save] 머신러닝_case2 (macro hidden states + firm-specific).ipynb",
   "provenance": [],
   "toc_visible": true
  },
  "kernelspec": {
   "display_name": "Python 3 (ipykernel)",
   "language": "python",
   "name": "python3"
  },
  "language_info": {
   "codemirror_mode": {
    "name": "ipython",
    "version": 3
   },
   "file_extension": ".py",
   "mimetype": "text/x-python",
   "name": "python",
   "nbconvert_exporter": "python",
   "pygments_lexer": "ipython3",
   "version": "3.9.7"
  }
 },
 "nbformat": 4,
 "nbformat_minor": 5
}
